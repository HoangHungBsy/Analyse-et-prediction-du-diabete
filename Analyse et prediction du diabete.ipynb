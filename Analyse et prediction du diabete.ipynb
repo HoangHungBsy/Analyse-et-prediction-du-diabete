{
 "cells": [
  {
   "cell_type": "code",
   "execution_count": 1,
   "metadata": {
    "_cell_guid": "b1076dfc-b9ad-4769-8c92-a6c4dae69d19",
    "_uuid": "8f2839f25d086af736a60e9eeb907d3b93b6e0e5",
    "execution": {
     "iopub.execute_input": "2021-09-30T11:15:27.093748Z",
     "iopub.status.busy": "2021-09-30T11:15:27.093013Z",
     "iopub.status.idle": "2021-09-30T11:15:28.147652Z",
     "shell.execute_reply": "2021-09-30T11:15:28.148610Z",
     "shell.execute_reply.started": "2021-09-30T11:13:54.647808Z"
    },
    "papermill": {
     "duration": 1.112249,
     "end_time": "2021-09-30T11:15:28.148949",
     "exception": false,
     "start_time": "2021-09-30T11:15:27.036700",
     "status": "completed"
    },
    "tags": []
   },
   "outputs": [
    {
     "name": "stdout",
     "output_type": "stream",
     "text": [
      "/kaggle/input/pima-indians-diabetes-database/diabetes.csv\n"
     ]
    }
   ],
   "source": [
    "# This Python 3 environment comes with many helpful analytics libraries installed\n",
    "# It is defined by the kaggle/python Docker image: https://github.com/kaggle/docker-python\n",
    "# For example, here's several helpful packages to load\n",
    "\n",
    "import numpy as np # linear algebra\n",
    "import pandas as pd # data processing, CSV file I/O (e.g. pd.read_csv)\n",
    "import seaborn as sns\n",
    "\n",
    "# Input data files are available in the read-only \"../input/\" directory\n",
    "# For example, running this (by clicking run or pressing Shift+Enter) will list all files under the input directory\n",
    "\n",
    "import os\n",
    "for dirname, _, filenames in os.walk('/kaggle/input'):\n",
    "    for filename in filenames:\n",
    "        print(os.path.join(dirname, filename))\n",
    "\n",
    "# You can write up to 20GB to the current directory (/kaggle/working/) that gets preserved as output when you create a version using \"Save & Run All\" \n",
    "# You can also write temporary files to /kaggle/temp/, but they won't be saved outside of the current session"
   ]
  },
  {
   "cell_type": "code",
   "execution_count": 2,
   "metadata": {
    "execution": {
     "iopub.execute_input": "2021-09-30T11:15:28.259013Z",
     "iopub.status.busy": "2021-09-30T11:15:28.258158Z",
     "iopub.status.idle": "2021-09-30T11:15:28.300221Z",
     "shell.execute_reply": "2021-09-30T11:15:28.299449Z",
     "shell.execute_reply.started": "2021-09-30T11:13:55.676241Z"
    },
    "papermill": {
     "duration": 0.100084,
     "end_time": "2021-09-30T11:15:28.300360",
     "exception": false,
     "start_time": "2021-09-30T11:15:28.200276",
     "status": "completed"
    },
    "tags": []
   },
   "outputs": [
    {
     "data": {
      "text/html": [
       "<div>\n",
       "<style scoped>\n",
       "    .dataframe tbody tr th:only-of-type {\n",
       "        vertical-align: middle;\n",
       "    }\n",
       "\n",
       "    .dataframe tbody tr th {\n",
       "        vertical-align: top;\n",
       "    }\n",
       "\n",
       "    .dataframe thead th {\n",
       "        text-align: right;\n",
       "    }\n",
       "</style>\n",
       "<table border=\"1\" class=\"dataframe\">\n",
       "  <thead>\n",
       "    <tr style=\"text-align: right;\">\n",
       "      <th></th>\n",
       "      <th>Pregnancies</th>\n",
       "      <th>Glucose</th>\n",
       "      <th>BloodPressure</th>\n",
       "      <th>SkinThickness</th>\n",
       "      <th>Insulin</th>\n",
       "      <th>BMI</th>\n",
       "      <th>DiabetesPedigreeFunction</th>\n",
       "      <th>Age</th>\n",
       "      <th>Outcome</th>\n",
       "    </tr>\n",
       "  </thead>\n",
       "  <tbody>\n",
       "    <tr>\n",
       "      <th>0</th>\n",
       "      <td>6</td>\n",
       "      <td>148</td>\n",
       "      <td>72</td>\n",
       "      <td>35</td>\n",
       "      <td>0</td>\n",
       "      <td>33.6</td>\n",
       "      <td>0.627</td>\n",
       "      <td>50</td>\n",
       "      <td>1</td>\n",
       "    </tr>\n",
       "    <tr>\n",
       "      <th>1</th>\n",
       "      <td>1</td>\n",
       "      <td>85</td>\n",
       "      <td>66</td>\n",
       "      <td>29</td>\n",
       "      <td>0</td>\n",
       "      <td>26.6</td>\n",
       "      <td>0.351</td>\n",
       "      <td>31</td>\n",
       "      <td>0</td>\n",
       "    </tr>\n",
       "    <tr>\n",
       "      <th>2</th>\n",
       "      <td>8</td>\n",
       "      <td>183</td>\n",
       "      <td>64</td>\n",
       "      <td>0</td>\n",
       "      <td>0</td>\n",
       "      <td>23.3</td>\n",
       "      <td>0.672</td>\n",
       "      <td>32</td>\n",
       "      <td>1</td>\n",
       "    </tr>\n",
       "    <tr>\n",
       "      <th>3</th>\n",
       "      <td>1</td>\n",
       "      <td>89</td>\n",
       "      <td>66</td>\n",
       "      <td>23</td>\n",
       "      <td>94</td>\n",
       "      <td>28.1</td>\n",
       "      <td>0.167</td>\n",
       "      <td>21</td>\n",
       "      <td>0</td>\n",
       "    </tr>\n",
       "    <tr>\n",
       "      <th>4</th>\n",
       "      <td>0</td>\n",
       "      <td>137</td>\n",
       "      <td>40</td>\n",
       "      <td>35</td>\n",
       "      <td>168</td>\n",
       "      <td>43.1</td>\n",
       "      <td>2.288</td>\n",
       "      <td>33</td>\n",
       "      <td>1</td>\n",
       "    </tr>\n",
       "  </tbody>\n",
       "</table>\n",
       "</div>"
      ],
      "text/plain": [
       "   Pregnancies  Glucose  BloodPressure  SkinThickness  Insulin   BMI  \\\n",
       "0            6      148             72             35        0  33.6   \n",
       "1            1       85             66             29        0  26.6   \n",
       "2            8      183             64              0        0  23.3   \n",
       "3            1       89             66             23       94  28.1   \n",
       "4            0      137             40             35      168  43.1   \n",
       "\n",
       "   DiabetesPedigreeFunction  Age  Outcome  \n",
       "0                     0.627   50        1  \n",
       "1                     0.351   31        0  \n",
       "2                     0.672   32        1  \n",
       "3                     0.167   21        0  \n",
       "4                     2.288   33        1  "
      ]
     },
     "execution_count": 2,
     "metadata": {},
     "output_type": "execute_result"
    }
   ],
   "source": [
    "df=pd.read_csv('../input/pima-indians-diabetes-database/diabetes.csv')\n",
    "df.head()"
   ]
  },
  {
   "cell_type": "code",
   "execution_count": 3,
   "metadata": {
    "execution": {
     "iopub.execute_input": "2021-09-30T11:15:28.405166Z",
     "iopub.status.busy": "2021-09-30T11:15:28.404377Z",
     "iopub.status.idle": "2021-09-30T11:15:28.408949Z",
     "shell.execute_reply": "2021-09-30T11:15:28.409693Z",
     "shell.execute_reply.started": "2021-09-30T11:13:55.716355Z"
    },
    "papermill": {
     "duration": 0.060186,
     "end_time": "2021-09-30T11:15:28.409910",
     "exception": false,
     "start_time": "2021-09-30T11:15:28.349724",
     "status": "completed"
    },
    "tags": []
   },
   "outputs": [
    {
     "name": "stdout",
     "output_type": "stream",
     "text": [
      "data has 768 rows, and 9 columns\n"
     ]
    }
   ],
   "source": [
    "print('data has {} rows, and {} columns'.format (df.shape[0],df.shape[1]))"
   ]
  },
  {
   "cell_type": "markdown",
   "metadata": {
    "papermill": {
     "duration": 0.048162,
     "end_time": "2021-09-30T11:15:28.507632",
     "exception": false,
     "start_time": "2021-09-30T11:15:28.459470",
     "status": "completed"
    },
    "tags": []
   },
   "source": [
    "**Exercice 1**\n",
    "*Question 1.1*\n",
    "\n",
    "* Faire une sélection des données pour lesquelles le glucose est supérieur à 90, puis en\n",
    "* Sélectionner uniquement les colonnes: Outcome, BMI, and Age, puis en\n",
    "* Sélectionner uniquement les 8 premières lignes."
   ]
  },
  {
   "cell_type": "code",
   "execution_count": 4,
   "metadata": {
    "execution": {
     "iopub.execute_input": "2021-09-30T11:15:28.613757Z",
     "iopub.status.busy": "2021-09-30T11:15:28.613098Z",
     "iopub.status.idle": "2021-09-30T11:15:28.654135Z",
     "shell.execute_reply": "2021-09-30T11:15:28.653448Z",
     "shell.execute_reply.started": "2021-09-30T11:13:55.726029Z"
    },
    "papermill": {
     "duration": 0.095953,
     "end_time": "2021-09-30T11:15:28.654257",
     "exception": false,
     "start_time": "2021-09-30T11:15:28.558304",
     "status": "completed"
    },
    "tags": []
   },
   "outputs": [
    {
     "data": {
      "text/html": [
       "<div>\n",
       "<style scoped>\n",
       "    .dataframe tbody tr th:only-of-type {\n",
       "        vertical-align: middle;\n",
       "    }\n",
       "\n",
       "    .dataframe tbody tr th {\n",
       "        vertical-align: top;\n",
       "    }\n",
       "\n",
       "    .dataframe thead th {\n",
       "        text-align: right;\n",
       "    }\n",
       "</style>\n",
       "<table border=\"1\" class=\"dataframe\">\n",
       "  <thead>\n",
       "    <tr style=\"text-align: right;\">\n",
       "      <th></th>\n",
       "      <th>Pregnancies</th>\n",
       "      <th>Glucose</th>\n",
       "      <th>BloodPressure</th>\n",
       "      <th>SkinThickness</th>\n",
       "      <th>Insulin</th>\n",
       "      <th>BMI</th>\n",
       "      <th>DiabetesPedigreeFunction</th>\n",
       "      <th>Age</th>\n",
       "      <th>Outcome</th>\n",
       "    </tr>\n",
       "  </thead>\n",
       "  <tbody>\n",
       "    <tr>\n",
       "      <th>0</th>\n",
       "      <td>6</td>\n",
       "      <td>148</td>\n",
       "      <td>72</td>\n",
       "      <td>35</td>\n",
       "      <td>0</td>\n",
       "      <td>33.6</td>\n",
       "      <td>0.627</td>\n",
       "      <td>50</td>\n",
       "      <td>1</td>\n",
       "    </tr>\n",
       "    <tr>\n",
       "      <th>2</th>\n",
       "      <td>8</td>\n",
       "      <td>183</td>\n",
       "      <td>64</td>\n",
       "      <td>0</td>\n",
       "      <td>0</td>\n",
       "      <td>23.3</td>\n",
       "      <td>0.672</td>\n",
       "      <td>32</td>\n",
       "      <td>1</td>\n",
       "    </tr>\n",
       "    <tr>\n",
       "      <th>4</th>\n",
       "      <td>0</td>\n",
       "      <td>137</td>\n",
       "      <td>40</td>\n",
       "      <td>35</td>\n",
       "      <td>168</td>\n",
       "      <td>43.1</td>\n",
       "      <td>2.288</td>\n",
       "      <td>33</td>\n",
       "      <td>1</td>\n",
       "    </tr>\n",
       "    <tr>\n",
       "      <th>5</th>\n",
       "      <td>5</td>\n",
       "      <td>116</td>\n",
       "      <td>74</td>\n",
       "      <td>0</td>\n",
       "      <td>0</td>\n",
       "      <td>25.6</td>\n",
       "      <td>0.201</td>\n",
       "      <td>30</td>\n",
       "      <td>0</td>\n",
       "    </tr>\n",
       "    <tr>\n",
       "      <th>7</th>\n",
       "      <td>10</td>\n",
       "      <td>115</td>\n",
       "      <td>0</td>\n",
       "      <td>0</td>\n",
       "      <td>0</td>\n",
       "      <td>35.3</td>\n",
       "      <td>0.134</td>\n",
       "      <td>29</td>\n",
       "      <td>0</td>\n",
       "    </tr>\n",
       "    <tr>\n",
       "      <th>...</th>\n",
       "      <td>...</td>\n",
       "      <td>...</td>\n",
       "      <td>...</td>\n",
       "      <td>...</td>\n",
       "      <td>...</td>\n",
       "      <td>...</td>\n",
       "      <td>...</td>\n",
       "      <td>...</td>\n",
       "      <td>...</td>\n",
       "    </tr>\n",
       "    <tr>\n",
       "      <th>763</th>\n",
       "      <td>10</td>\n",
       "      <td>101</td>\n",
       "      <td>76</td>\n",
       "      <td>48</td>\n",
       "      <td>180</td>\n",
       "      <td>32.9</td>\n",
       "      <td>0.171</td>\n",
       "      <td>63</td>\n",
       "      <td>0</td>\n",
       "    </tr>\n",
       "    <tr>\n",
       "      <th>764</th>\n",
       "      <td>2</td>\n",
       "      <td>122</td>\n",
       "      <td>70</td>\n",
       "      <td>27</td>\n",
       "      <td>0</td>\n",
       "      <td>36.8</td>\n",
       "      <td>0.340</td>\n",
       "      <td>27</td>\n",
       "      <td>0</td>\n",
       "    </tr>\n",
       "    <tr>\n",
       "      <th>765</th>\n",
       "      <td>5</td>\n",
       "      <td>121</td>\n",
       "      <td>72</td>\n",
       "      <td>23</td>\n",
       "      <td>112</td>\n",
       "      <td>26.2</td>\n",
       "      <td>0.245</td>\n",
       "      <td>30</td>\n",
       "      <td>0</td>\n",
       "    </tr>\n",
       "    <tr>\n",
       "      <th>766</th>\n",
       "      <td>1</td>\n",
       "      <td>126</td>\n",
       "      <td>60</td>\n",
       "      <td>0</td>\n",
       "      <td>0</td>\n",
       "      <td>30.1</td>\n",
       "      <td>0.349</td>\n",
       "      <td>47</td>\n",
       "      <td>1</td>\n",
       "    </tr>\n",
       "    <tr>\n",
       "      <th>767</th>\n",
       "      <td>1</td>\n",
       "      <td>93</td>\n",
       "      <td>70</td>\n",
       "      <td>31</td>\n",
       "      <td>0</td>\n",
       "      <td>30.4</td>\n",
       "      <td>0.315</td>\n",
       "      <td>23</td>\n",
       "      <td>0</td>\n",
       "    </tr>\n",
       "  </tbody>\n",
       "</table>\n",
       "<p>653 rows × 9 columns</p>\n",
       "</div>"
      ],
      "text/plain": [
       "     Pregnancies  Glucose  BloodPressure  SkinThickness  Insulin   BMI  \\\n",
       "0              6      148             72             35        0  33.6   \n",
       "2              8      183             64              0        0  23.3   \n",
       "4              0      137             40             35      168  43.1   \n",
       "5              5      116             74              0        0  25.6   \n",
       "7             10      115              0              0        0  35.3   \n",
       "..           ...      ...            ...            ...      ...   ...   \n",
       "763           10      101             76             48      180  32.9   \n",
       "764            2      122             70             27        0  36.8   \n",
       "765            5      121             72             23      112  26.2   \n",
       "766            1      126             60              0        0  30.1   \n",
       "767            1       93             70             31        0  30.4   \n",
       "\n",
       "     DiabetesPedigreeFunction  Age  Outcome  \n",
       "0                       0.627   50        1  \n",
       "2                       0.672   32        1  \n",
       "4                       2.288   33        1  \n",
       "5                       0.201   30        0  \n",
       "7                       0.134   29        0  \n",
       "..                        ...  ...      ...  \n",
       "763                     0.171   63        0  \n",
       "764                     0.340   27        0  \n",
       "765                     0.245   30        0  \n",
       "766                     0.349   47        1  \n",
       "767                     0.315   23        0  \n",
       "\n",
       "[653 rows x 9 columns]"
      ]
     },
     "execution_count": 4,
     "metadata": {},
     "output_type": "execute_result"
    }
   ],
   "source": [
    "Glucose = df[df['Glucose']> 90]\n",
    "Glucose"
   ]
  },
  {
   "cell_type": "code",
   "execution_count": 5,
   "metadata": {
    "execution": {
     "iopub.execute_input": "2021-09-30T11:15:28.772503Z",
     "iopub.status.busy": "2021-09-30T11:15:28.771308Z",
     "iopub.status.idle": "2021-09-30T11:15:28.776080Z",
     "shell.execute_reply": "2021-09-30T11:15:28.775343Z",
     "shell.execute_reply.started": "2021-09-30T11:13:55.777127Z"
    },
    "papermill": {
     "duration": 0.069135,
     "end_time": "2021-09-30T11:15:28.776224",
     "exception": false,
     "start_time": "2021-09-30T11:15:28.707089",
     "status": "completed"
    },
    "tags": []
   },
   "outputs": [
    {
     "data": {
      "text/html": [
       "<div>\n",
       "<style scoped>\n",
       "    .dataframe tbody tr th:only-of-type {\n",
       "        vertical-align: middle;\n",
       "    }\n",
       "\n",
       "    .dataframe tbody tr th {\n",
       "        vertical-align: top;\n",
       "    }\n",
       "\n",
       "    .dataframe thead th {\n",
       "        text-align: right;\n",
       "    }\n",
       "</style>\n",
       "<table border=\"1\" class=\"dataframe\">\n",
       "  <thead>\n",
       "    <tr style=\"text-align: right;\">\n",
       "      <th></th>\n",
       "      <th>Outcome</th>\n",
       "      <th>BMI</th>\n",
       "      <th>Age</th>\n",
       "    </tr>\n",
       "  </thead>\n",
       "  <tbody>\n",
       "    <tr>\n",
       "      <th>0</th>\n",
       "      <td>1</td>\n",
       "      <td>33.6</td>\n",
       "      <td>50</td>\n",
       "    </tr>\n",
       "    <tr>\n",
       "      <th>2</th>\n",
       "      <td>1</td>\n",
       "      <td>23.3</td>\n",
       "      <td>32</td>\n",
       "    </tr>\n",
       "    <tr>\n",
       "      <th>4</th>\n",
       "      <td>1</td>\n",
       "      <td>43.1</td>\n",
       "      <td>33</td>\n",
       "    </tr>\n",
       "    <tr>\n",
       "      <th>5</th>\n",
       "      <td>0</td>\n",
       "      <td>25.6</td>\n",
       "      <td>30</td>\n",
       "    </tr>\n",
       "    <tr>\n",
       "      <th>7</th>\n",
       "      <td>0</td>\n",
       "      <td>35.3</td>\n",
       "      <td>29</td>\n",
       "    </tr>\n",
       "    <tr>\n",
       "      <th>8</th>\n",
       "      <td>1</td>\n",
       "      <td>30.5</td>\n",
       "      <td>53</td>\n",
       "    </tr>\n",
       "    <tr>\n",
       "      <th>9</th>\n",
       "      <td>1</td>\n",
       "      <td>0.0</td>\n",
       "      <td>54</td>\n",
       "    </tr>\n",
       "    <tr>\n",
       "      <th>10</th>\n",
       "      <td>0</td>\n",
       "      <td>37.6</td>\n",
       "      <td>30</td>\n",
       "    </tr>\n",
       "  </tbody>\n",
       "</table>\n",
       "</div>"
      ],
      "text/plain": [
       "    Outcome   BMI  Age\n",
       "0         1  33.6   50\n",
       "2         1  23.3   32\n",
       "4         1  43.1   33\n",
       "5         0  25.6   30\n",
       "7         0  35.3   29\n",
       "8         1  30.5   53\n",
       "9         1   0.0   54\n",
       "10        0  37.6   30"
      ]
     },
     "execution_count": 5,
     "metadata": {},
     "output_type": "execute_result"
    }
   ],
   "source": [
    "Glucose[['Outcome', 'BMI', 'Age']].head(8)"
   ]
  },
  {
   "cell_type": "markdown",
   "metadata": {
    "papermill": {
     "duration": 0.052015,
     "end_time": "2021-09-30T11:15:28.882998",
     "exception": false,
     "start_time": "2021-09-30T11:15:28.830983",
     "status": "completed"
    },
    "tags": []
   },
   "source": [
    "**Question 1.2**\n",
    "* Faire une sélection des enregistrements où le glucose est entre 90 et 130, puis en\n",
    "* Sélectionner uniquement les colonnes: Outcome, BMI, and Age, puis en\n",
    "* Sélectionner uniquement les 6 premières lignes."
   ]
  },
  {
   "cell_type": "code",
   "execution_count": 6,
   "metadata": {
    "execution": {
     "iopub.execute_input": "2021-09-30T11:15:28.989336Z",
     "iopub.status.busy": "2021-09-30T11:15:28.988596Z",
     "iopub.status.idle": "2021-09-30T11:15:29.001931Z",
     "shell.execute_reply": "2021-09-30T11:15:29.002471Z",
     "shell.execute_reply.started": "2021-09-30T11:13:55.795277Z"
    },
    "papermill": {
     "duration": 0.067513,
     "end_time": "2021-09-30T11:15:29.002645",
     "exception": false,
     "start_time": "2021-09-30T11:15:28.935132",
     "status": "completed"
    },
    "tags": []
   },
   "outputs": [
    {
     "data": {
      "text/html": [
       "<div>\n",
       "<style scoped>\n",
       "    .dataframe tbody tr th:only-of-type {\n",
       "        vertical-align: middle;\n",
       "    }\n",
       "\n",
       "    .dataframe tbody tr th {\n",
       "        vertical-align: top;\n",
       "    }\n",
       "\n",
       "    .dataframe thead th {\n",
       "        text-align: right;\n",
       "    }\n",
       "</style>\n",
       "<table border=\"1\" class=\"dataframe\">\n",
       "  <thead>\n",
       "    <tr style=\"text-align: right;\">\n",
       "      <th></th>\n",
       "      <th>Outcome</th>\n",
       "      <th>BMI</th>\n",
       "      <th>Age</th>\n",
       "    </tr>\n",
       "  </thead>\n",
       "  <tbody>\n",
       "    <tr>\n",
       "      <th>5</th>\n",
       "      <td>0</td>\n",
       "      <td>25.6</td>\n",
       "      <td>30</td>\n",
       "    </tr>\n",
       "    <tr>\n",
       "      <th>7</th>\n",
       "      <td>0</td>\n",
       "      <td>35.3</td>\n",
       "      <td>29</td>\n",
       "    </tr>\n",
       "    <tr>\n",
       "      <th>9</th>\n",
       "      <td>1</td>\n",
       "      <td>0.0</td>\n",
       "      <td>54</td>\n",
       "    </tr>\n",
       "    <tr>\n",
       "      <th>10</th>\n",
       "      <td>0</td>\n",
       "      <td>37.6</td>\n",
       "      <td>30</td>\n",
       "    </tr>\n",
       "    <tr>\n",
       "      <th>15</th>\n",
       "      <td>1</td>\n",
       "      <td>30.0</td>\n",
       "      <td>32</td>\n",
       "    </tr>\n",
       "    <tr>\n",
       "      <th>16</th>\n",
       "      <td>1</td>\n",
       "      <td>45.8</td>\n",
       "      <td>31</td>\n",
       "    </tr>\n",
       "  </tbody>\n",
       "</table>\n",
       "</div>"
      ],
      "text/plain": [
       "    Outcome   BMI  Age\n",
       "5         0  25.6   30\n",
       "7         0  35.3   29\n",
       "9         1   0.0   54\n",
       "10        0  37.6   30\n",
       "15        1  30.0   32\n",
       "16        1  45.8   31"
      ]
     },
     "execution_count": 6,
     "metadata": {},
     "output_type": "execute_result"
    }
   ],
   "source": [
    "Glucose_90_130= df[(df['Glucose'] > 90) & (df['Glucose'] < 130)]\n",
    "Glucose_90_130[['Outcome', 'BMI', 'Age']].head(6)"
   ]
  },
  {
   "cell_type": "markdown",
   "metadata": {
    "papermill": {
     "duration": 0.052394,
     "end_time": "2021-09-30T11:15:29.107375",
     "exception": false,
     "start_time": "2021-09-30T11:15:29.054981",
     "status": "completed"
    },
    "tags": []
   },
   "source": [
    "**Question 1.3**\n",
    "* Sélectionner les données qui ont Outcome = 1 et Pregnancies>0, puis\n",
    "* Se restreindre aux seules colonnes Glucose et BloodPressure, puis\n",
    "* Se restreindre aux 3 premieres lignes du dataframe résultant."
   ]
  },
  {
   "cell_type": "code",
   "execution_count": 7,
   "metadata": {
    "execution": {
     "iopub.execute_input": "2021-09-30T11:15:29.222162Z",
     "iopub.status.busy": "2021-09-30T11:15:29.221470Z",
     "iopub.status.idle": "2021-09-30T11:15:29.234252Z",
     "shell.execute_reply": "2021-09-30T11:15:29.234745Z",
     "shell.execute_reply.started": "2021-09-30T11:13:55.816883Z"
    },
    "papermill": {
     "duration": 0.071551,
     "end_time": "2021-09-30T11:15:29.234951",
     "exception": false,
     "start_time": "2021-09-30T11:15:29.163400",
     "status": "completed"
    },
    "tags": []
   },
   "outputs": [
    {
     "data": {
      "text/html": [
       "<div>\n",
       "<style scoped>\n",
       "    .dataframe tbody tr th:only-of-type {\n",
       "        vertical-align: middle;\n",
       "    }\n",
       "\n",
       "    .dataframe tbody tr th {\n",
       "        vertical-align: top;\n",
       "    }\n",
       "\n",
       "    .dataframe thead th {\n",
       "        text-align: right;\n",
       "    }\n",
       "</style>\n",
       "<table border=\"1\" class=\"dataframe\">\n",
       "  <thead>\n",
       "    <tr style=\"text-align: right;\">\n",
       "      <th></th>\n",
       "      <th>Glucose</th>\n",
       "      <th>BloodPressure</th>\n",
       "    </tr>\n",
       "  </thead>\n",
       "  <tbody>\n",
       "    <tr>\n",
       "      <th>0</th>\n",
       "      <td>148</td>\n",
       "      <td>72</td>\n",
       "    </tr>\n",
       "    <tr>\n",
       "      <th>2</th>\n",
       "      <td>183</td>\n",
       "      <td>64</td>\n",
       "    </tr>\n",
       "    <tr>\n",
       "      <th>6</th>\n",
       "      <td>78</td>\n",
       "      <td>50</td>\n",
       "    </tr>\n",
       "  </tbody>\n",
       "</table>\n",
       "</div>"
      ],
      "text/plain": [
       "   Glucose  BloodPressure\n",
       "0      148             72\n",
       "2      183             64\n",
       "6       78             50"
      ]
     },
     "execution_count": 7,
     "metadata": {},
     "output_type": "execute_result"
    }
   ],
   "source": [
    "df1= df [(df['Outcome']==1) & (df['Pregnancies']> 0)]\n",
    "df1[['Glucose','BloodPressure']].head(3)"
   ]
  },
  {
   "cell_type": "markdown",
   "metadata": {
    "papermill": {
     "duration": 0.052308,
     "end_time": "2021-09-30T11:15:29.341354",
     "exception": false,
     "start_time": "2021-09-30T11:15:29.289046",
     "status": "completed"
    },
    "tags": []
   },
   "source": [
    "**Question 1.4**\n",
    "* Dans ce jeux de données, combien de personnes présentant un diabète ont une tension artérielle supérieur à 70 ?"
   ]
  },
  {
   "cell_type": "code",
   "execution_count": 8,
   "metadata": {
    "execution": {
     "iopub.execute_input": "2021-09-30T11:15:29.455142Z",
     "iopub.status.busy": "2021-09-30T11:15:29.454212Z",
     "iopub.status.idle": "2021-09-30T11:15:29.458002Z",
     "shell.execute_reply": "2021-09-30T11:15:29.458553Z",
     "shell.execute_reply.started": "2021-09-30T11:13:55.836000Z"
    },
    "papermill": {
     "duration": 0.064989,
     "end_time": "2021-09-30T11:15:29.458738",
     "exception": false,
     "start_time": "2021-09-30T11:15:29.393749",
     "status": "completed"
    },
    "tags": []
   },
   "outputs": [
    {
     "data": {
      "text/plain": [
       "142"
      ]
     },
     "execution_count": 8,
     "metadata": {},
     "output_type": "execute_result"
    }
   ],
   "source": [
    "df1[df1['BloodPressure'] > 70]['Outcome'].count()"
   ]
  },
  {
   "cell_type": "markdown",
   "metadata": {
    "papermill": {
     "duration": 0.05311,
     "end_time": "2021-09-30T11:15:29.565172",
     "exception": false,
     "start_time": "2021-09-30T11:15:29.512062",
     "status": "completed"
    },
    "tags": []
   },
   "source": [
    "**Savoir si notre jeux de données possède des champs vides (non renseignés) ?**"
   ]
  },
  {
   "cell_type": "code",
   "execution_count": 9,
   "metadata": {
    "execution": {
     "iopub.execute_input": "2021-09-30T11:15:29.681141Z",
     "iopub.status.busy": "2021-09-30T11:15:29.680335Z",
     "iopub.status.idle": "2021-09-30T11:15:29.688183Z",
     "shell.execute_reply": "2021-09-30T11:15:29.689052Z",
     "shell.execute_reply.started": "2021-09-30T11:13:55.852218Z"
    },
    "papermill": {
     "duration": 0.068888,
     "end_time": "2021-09-30T11:15:29.689264",
     "exception": false,
     "start_time": "2021-09-30T11:15:29.620376",
     "status": "completed"
    },
    "tags": []
   },
   "outputs": [
    {
     "data": {
      "text/plain": [
       "Pregnancies                 0\n",
       "Glucose                     0\n",
       "BloodPressure               0\n",
       "SkinThickness               0\n",
       "Insulin                     0\n",
       "BMI                         0\n",
       "DiabetesPedigreeFunction    0\n",
       "Age                         0\n",
       "Outcome                     0\n",
       "dtype: int64"
      ]
     },
     "execution_count": 9,
     "metadata": {},
     "output_type": "execute_result"
    }
   ],
   "source": [
    "df.isnull().sum()"
   ]
  },
  {
   "cell_type": "markdown",
   "metadata": {
    "papermill": {
     "duration": 0.052777,
     "end_time": "2021-09-30T11:15:29.800023",
     "exception": false,
     "start_time": "2021-09-30T11:15:29.747246",
     "status": "completed"
    },
    "tags": []
   },
   "source": [
    "**Afficher la liste des colonnes**"
   ]
  },
  {
   "cell_type": "code",
   "execution_count": 10,
   "metadata": {
    "execution": {
     "iopub.execute_input": "2021-09-30T11:15:29.914503Z",
     "iopub.status.busy": "2021-09-30T11:15:29.913394Z",
     "iopub.status.idle": "2021-09-30T11:15:29.917469Z",
     "shell.execute_reply": "2021-09-30T11:15:29.917970Z",
     "shell.execute_reply.started": "2021-09-30T11:13:55.869574Z"
    },
    "papermill": {
     "duration": 0.062924,
     "end_time": "2021-09-30T11:15:29.918163",
     "exception": false,
     "start_time": "2021-09-30T11:15:29.855239",
     "status": "completed"
    },
    "tags": []
   },
   "outputs": [
    {
     "data": {
      "text/plain": [
       "Index(['Pregnancies', 'Glucose', 'BloodPressure', 'SkinThickness', 'Insulin',\n",
       "       'BMI', 'DiabetesPedigreeFunction', 'Age', 'Outcome'],\n",
       "      dtype='object')"
      ]
     },
     "execution_count": 10,
     "metadata": {},
     "output_type": "execute_result"
    }
   ],
   "source": [
    "df.columns"
   ]
  },
  {
   "cell_type": "markdown",
   "metadata": {
    "papermill": {
     "duration": 0.054537,
     "end_time": "2021-09-30T11:15:30.025661",
     "exception": false,
     "start_time": "2021-09-30T11:15:29.971124",
     "status": "completed"
    },
    "tags": []
   },
   "source": [
    "**Afficher le type de données des colonnes**"
   ]
  },
  {
   "cell_type": "code",
   "execution_count": 11,
   "metadata": {
    "execution": {
     "iopub.execute_input": "2021-09-30T11:15:30.146512Z",
     "iopub.status.busy": "2021-09-30T11:15:30.145336Z",
     "iopub.status.idle": "2021-09-30T11:15:30.150618Z",
     "shell.execute_reply": "2021-09-30T11:15:30.149946Z",
     "shell.execute_reply.started": "2021-09-30T11:13:55.883874Z"
    },
    "papermill": {
     "duration": 0.070626,
     "end_time": "2021-09-30T11:15:30.150749",
     "exception": false,
     "start_time": "2021-09-30T11:15:30.080123",
     "status": "completed"
    },
    "tags": []
   },
   "outputs": [
    {
     "data": {
      "text/plain": [
       "Pregnancies                   int64\n",
       "Glucose                       int64\n",
       "BloodPressure                 int64\n",
       "SkinThickness                 int64\n",
       "Insulin                       int64\n",
       "BMI                         float64\n",
       "DiabetesPedigreeFunction    float64\n",
       "Age                           int64\n",
       "Outcome                       int64\n",
       "dtype: object"
      ]
     },
     "execution_count": 11,
     "metadata": {},
     "output_type": "execute_result"
    }
   ],
   "source": [
    "df.dtypes"
   ]
  },
  {
   "cell_type": "markdown",
   "metadata": {
    "papermill": {
     "duration": 0.060952,
     "end_time": "2021-09-30T11:15:30.267311",
     "exception": false,
     "start_time": "2021-09-30T11:15:30.206359",
     "status": "completed"
    },
    "tags": []
   },
   "source": [
    "**Avoir un résumé statistique de notre Dataframe**"
   ]
  },
  {
   "cell_type": "code",
   "execution_count": 12,
   "metadata": {
    "execution": {
     "iopub.execute_input": "2021-09-30T11:15:30.386576Z",
     "iopub.status.busy": "2021-09-30T11:15:30.385538Z",
     "iopub.status.idle": "2021-09-30T11:15:30.421191Z",
     "shell.execute_reply": "2021-09-30T11:15:30.420512Z",
     "shell.execute_reply.started": "2021-09-30T11:13:55.900576Z"
    },
    "papermill": {
     "duration": 0.096329,
     "end_time": "2021-09-30T11:15:30.421311",
     "exception": false,
     "start_time": "2021-09-30T11:15:30.324982",
     "status": "completed"
    },
    "tags": []
   },
   "outputs": [
    {
     "data": {
      "text/html": [
       "<div>\n",
       "<style scoped>\n",
       "    .dataframe tbody tr th:only-of-type {\n",
       "        vertical-align: middle;\n",
       "    }\n",
       "\n",
       "    .dataframe tbody tr th {\n",
       "        vertical-align: top;\n",
       "    }\n",
       "\n",
       "    .dataframe thead th {\n",
       "        text-align: right;\n",
       "    }\n",
       "</style>\n",
       "<table border=\"1\" class=\"dataframe\">\n",
       "  <thead>\n",
       "    <tr style=\"text-align: right;\">\n",
       "      <th></th>\n",
       "      <th>Pregnancies</th>\n",
       "      <th>Glucose</th>\n",
       "      <th>BloodPressure</th>\n",
       "      <th>SkinThickness</th>\n",
       "      <th>Insulin</th>\n",
       "      <th>BMI</th>\n",
       "      <th>DiabetesPedigreeFunction</th>\n",
       "      <th>Age</th>\n",
       "      <th>Outcome</th>\n",
       "    </tr>\n",
       "  </thead>\n",
       "  <tbody>\n",
       "    <tr>\n",
       "      <th>count</th>\n",
       "      <td>768.000000</td>\n",
       "      <td>768.000000</td>\n",
       "      <td>768.000000</td>\n",
       "      <td>768.000000</td>\n",
       "      <td>768.000000</td>\n",
       "      <td>768.000000</td>\n",
       "      <td>768.000000</td>\n",
       "      <td>768.000000</td>\n",
       "      <td>768.000000</td>\n",
       "    </tr>\n",
       "    <tr>\n",
       "      <th>mean</th>\n",
       "      <td>3.845052</td>\n",
       "      <td>120.894531</td>\n",
       "      <td>69.105469</td>\n",
       "      <td>20.536458</td>\n",
       "      <td>79.799479</td>\n",
       "      <td>31.992578</td>\n",
       "      <td>0.471876</td>\n",
       "      <td>33.240885</td>\n",
       "      <td>0.348958</td>\n",
       "    </tr>\n",
       "    <tr>\n",
       "      <th>std</th>\n",
       "      <td>3.369578</td>\n",
       "      <td>31.972618</td>\n",
       "      <td>19.355807</td>\n",
       "      <td>15.952218</td>\n",
       "      <td>115.244002</td>\n",
       "      <td>7.884160</td>\n",
       "      <td>0.331329</td>\n",
       "      <td>11.760232</td>\n",
       "      <td>0.476951</td>\n",
       "    </tr>\n",
       "    <tr>\n",
       "      <th>min</th>\n",
       "      <td>0.000000</td>\n",
       "      <td>0.000000</td>\n",
       "      <td>0.000000</td>\n",
       "      <td>0.000000</td>\n",
       "      <td>0.000000</td>\n",
       "      <td>0.000000</td>\n",
       "      <td>0.078000</td>\n",
       "      <td>21.000000</td>\n",
       "      <td>0.000000</td>\n",
       "    </tr>\n",
       "    <tr>\n",
       "      <th>25%</th>\n",
       "      <td>1.000000</td>\n",
       "      <td>99.000000</td>\n",
       "      <td>62.000000</td>\n",
       "      <td>0.000000</td>\n",
       "      <td>0.000000</td>\n",
       "      <td>27.300000</td>\n",
       "      <td>0.243750</td>\n",
       "      <td>24.000000</td>\n",
       "      <td>0.000000</td>\n",
       "    </tr>\n",
       "    <tr>\n",
       "      <th>50%</th>\n",
       "      <td>3.000000</td>\n",
       "      <td>117.000000</td>\n",
       "      <td>72.000000</td>\n",
       "      <td>23.000000</td>\n",
       "      <td>30.500000</td>\n",
       "      <td>32.000000</td>\n",
       "      <td>0.372500</td>\n",
       "      <td>29.000000</td>\n",
       "      <td>0.000000</td>\n",
       "    </tr>\n",
       "    <tr>\n",
       "      <th>75%</th>\n",
       "      <td>6.000000</td>\n",
       "      <td>140.250000</td>\n",
       "      <td>80.000000</td>\n",
       "      <td>32.000000</td>\n",
       "      <td>127.250000</td>\n",
       "      <td>36.600000</td>\n",
       "      <td>0.626250</td>\n",
       "      <td>41.000000</td>\n",
       "      <td>1.000000</td>\n",
       "    </tr>\n",
       "    <tr>\n",
       "      <th>max</th>\n",
       "      <td>17.000000</td>\n",
       "      <td>199.000000</td>\n",
       "      <td>122.000000</td>\n",
       "      <td>99.000000</td>\n",
       "      <td>846.000000</td>\n",
       "      <td>67.100000</td>\n",
       "      <td>2.420000</td>\n",
       "      <td>81.000000</td>\n",
       "      <td>1.000000</td>\n",
       "    </tr>\n",
       "  </tbody>\n",
       "</table>\n",
       "</div>"
      ],
      "text/plain": [
       "       Pregnancies     Glucose  BloodPressure  SkinThickness     Insulin  \\\n",
       "count   768.000000  768.000000     768.000000     768.000000  768.000000   \n",
       "mean      3.845052  120.894531      69.105469      20.536458   79.799479   \n",
       "std       3.369578   31.972618      19.355807      15.952218  115.244002   \n",
       "min       0.000000    0.000000       0.000000       0.000000    0.000000   \n",
       "25%       1.000000   99.000000      62.000000       0.000000    0.000000   \n",
       "50%       3.000000  117.000000      72.000000      23.000000   30.500000   \n",
       "75%       6.000000  140.250000      80.000000      32.000000  127.250000   \n",
       "max      17.000000  199.000000     122.000000      99.000000  846.000000   \n",
       "\n",
       "              BMI  DiabetesPedigreeFunction         Age     Outcome  \n",
       "count  768.000000                768.000000  768.000000  768.000000  \n",
       "mean    31.992578                  0.471876   33.240885    0.348958  \n",
       "std      7.884160                  0.331329   11.760232    0.476951  \n",
       "min      0.000000                  0.078000   21.000000    0.000000  \n",
       "25%     27.300000                  0.243750   24.000000    0.000000  \n",
       "50%     32.000000                  0.372500   29.000000    0.000000  \n",
       "75%     36.600000                  0.626250   41.000000    1.000000  \n",
       "max     67.100000                  2.420000   81.000000    1.000000  "
      ]
     },
     "execution_count": 12,
     "metadata": {},
     "output_type": "execute_result"
    }
   ],
   "source": [
    "df.describe()"
   ]
  },
  {
   "cell_type": "markdown",
   "metadata": {
    "papermill": {
     "duration": 0.052784,
     "end_time": "2021-09-30T11:15:30.527039",
     "exception": false,
     "start_time": "2021-09-30T11:15:30.474255",
     "status": "completed"
    },
    "tags": []
   },
   "source": [
    "****Combien y a-t-il de diagnostics ?"
   ]
  },
  {
   "cell_type": "code",
   "execution_count": 13,
   "metadata": {
    "execution": {
     "iopub.execute_input": "2021-09-30T11:15:30.646154Z",
     "iopub.status.busy": "2021-09-30T11:15:30.645208Z",
     "iopub.status.idle": "2021-09-30T11:15:30.652154Z",
     "shell.execute_reply": "2021-09-30T11:15:30.651192Z",
     "shell.execute_reply.started": "2021-09-30T11:13:55.947272Z"
    },
    "papermill": {
     "duration": 0.072231,
     "end_time": "2021-09-30T11:15:30.652362",
     "exception": false,
     "start_time": "2021-09-30T11:15:30.580131",
     "status": "completed"
    },
    "tags": []
   },
   "outputs": [
    {
     "data": {
      "text/plain": [
       "0    500\n",
       "1    268\n",
       "Name: Outcome, dtype: int64"
      ]
     },
     "execution_count": 13,
     "metadata": {},
     "output_type": "execute_result"
    }
   ],
   "source": [
    "df['Outcome'].value_counts()"
   ]
  },
  {
   "cell_type": "code",
   "execution_count": 14,
   "metadata": {
    "execution": {
     "iopub.execute_input": "2021-09-30T11:15:30.779065Z",
     "iopub.status.busy": "2021-09-30T11:15:30.778312Z",
     "iopub.status.idle": "2021-09-30T11:15:30.945079Z",
     "shell.execute_reply": "2021-09-30T11:15:30.944332Z",
     "shell.execute_reply.started": "2021-09-30T11:13:55.957694Z"
    },
    "papermill": {
     "duration": 0.230176,
     "end_time": "2021-09-30T11:15:30.945221",
     "exception": false,
     "start_time": "2021-09-30T11:15:30.715045",
     "status": "completed"
    },
    "tags": []
   },
   "outputs": [
    {
     "data": {
      "text/plain": [
       "<matplotlib.axes._subplots.AxesSubplot at 0x7ff8db303590>"
      ]
     },
     "execution_count": 14,
     "metadata": {},
     "output_type": "execute_result"
    },
    {
     "data": {
      "image/png": "[encoded data removed]",
      "text/plain": [
       "<Figure size 432x288 with 1 Axes>"
      ]
     },
     "metadata": {
      "needs_background": "light"
     },
     "output_type": "display_data"
    }
   ],
   "source": [
    "#visualisation Target\n",
    "sns.countplot(df['Outcome'])"
   ]
  },
  {
   "cell_type": "markdown",
   "metadata": {
    "papermill": {
     "duration": 0.055521,
     "end_time": "2021-09-30T11:15:31.056503",
     "exception": false,
     "start_time": "2021-09-30T11:15:31.000982",
     "status": "completed"
    },
    "tags": []
   },
   "source": [
    "**Quelle est la moyenne de l'épaisseur de la peau des patientes dont le diagnostic est le diabète ?**"
   ]
  },
  {
   "cell_type": "code",
   "execution_count": 15,
   "metadata": {
    "execution": {
     "iopub.execute_input": "2021-09-30T11:15:31.204826Z",
     "iopub.status.busy": "2021-09-30T11:15:31.203744Z",
     "iopub.status.idle": "2021-09-30T11:15:31.209565Z",
     "shell.execute_reply": "2021-09-30T11:15:31.208854Z",
     "shell.execute_reply.started": "2021-09-30T11:13:56.127462Z"
    },
    "papermill": {
     "duration": 0.084166,
     "end_time": "2021-09-30T11:15:31.209710",
     "exception": false,
     "start_time": "2021-09-30T11:15:31.125544",
     "status": "completed"
    },
    "tags": []
   },
   "outputs": [
    {
     "data": {
      "text/plain": [
       "22.16417910447761"
      ]
     },
     "execution_count": 15,
     "metadata": {},
     "output_type": "execute_result"
    }
   ],
   "source": [
    "df[df['Outcome']==1].SkinThickness.mean()"
   ]
  },
  {
   "cell_type": "markdown",
   "metadata": {
    "papermill": {
     "duration": 0.056667,
     "end_time": "2021-09-30T11:15:31.322859",
     "exception": false,
     "start_time": "2021-09-30T11:15:31.266192",
     "status": "completed"
    },
    "tags": []
   },
   "source": [
    "**Question 1.5\n",
    "* Quel est le maximum du \"BMI\" lorsque la patiente n'est pas atteinte par le diabète ?**"
   ]
  },
  {
   "cell_type": "code",
   "execution_count": 16,
   "metadata": {
    "execution": {
     "iopub.execute_input": "2021-09-30T11:15:31.442526Z",
     "iopub.status.busy": "2021-09-30T11:15:31.441741Z",
     "iopub.status.idle": "2021-09-30T11:15:31.446333Z",
     "shell.execute_reply": "2021-09-30T11:15:31.445766Z",
     "shell.execute_reply.started": "2021-09-30T11:13:56.139341Z"
    },
    "papermill": {
     "duration": 0.066901,
     "end_time": "2021-09-30T11:15:31.446452",
     "exception": false,
     "start_time": "2021-09-30T11:15:31.379551",
     "status": "completed"
    },
    "tags": []
   },
   "outputs": [
    {
     "data": {
      "text/plain": [
       "57.3"
      ]
     },
     "execution_count": 16,
     "metadata": {},
     "output_type": "execute_result"
    }
   ],
   "source": [
    "df[df['Outcome']==0].BMI.max()"
   ]
  },
  {
   "cell_type": "markdown",
   "metadata": {
    "papermill": {
     "duration": 0.055518,
     "end_time": "2021-09-30T11:15:31.556554",
     "exception": false,
     "start_time": "2021-09-30T11:15:31.501036",
     "status": "completed"
    },
    "tags": []
   },
   "source": [
    "**Étape 2 : Visualisation des données**\n",
    "\n",
    "Analyse visuelle par des diagrammes de dispersion"
   ]
  },
  {
   "cell_type": "code",
   "execution_count": 17,
   "metadata": {
    "execution": {
     "iopub.execute_input": "2021-09-30T11:15:31.673516Z",
     "iopub.status.busy": "2021-09-30T11:15:31.672860Z",
     "iopub.status.idle": "2021-09-30T11:15:31.676558Z",
     "shell.execute_reply": "2021-09-30T11:15:31.675925Z",
     "shell.execute_reply.started": "2021-09-30T11:13:56.150511Z"
    },
    "papermill": {
     "duration": 0.06452,
     "end_time": "2021-09-30T11:15:31.676671",
     "exception": false,
     "start_time": "2021-09-30T11:15:31.612151",
     "status": "completed"
    },
    "tags": []
   },
   "outputs": [],
   "source": [
    "import matplotlib.pyplot as plt\n",
    "import seaborn as sns"
   ]
  },
  {
   "cell_type": "code",
   "execution_count": 18,
   "metadata": {
    "execution": {
     "iopub.execute_input": "2021-09-30T11:15:31.809563Z",
     "iopub.status.busy": "2021-09-30T11:15:31.808889Z",
     "iopub.status.idle": "2021-09-30T11:15:32.084607Z",
     "shell.execute_reply": "2021-09-30T11:15:32.083936Z",
     "shell.execute_reply.started": "2021-09-30T11:13:56.164314Z"
    },
    "papermill": {
     "duration": 0.352508,
     "end_time": "2021-09-30T11:15:32.084749",
     "exception": false,
     "start_time": "2021-09-30T11:15:31.732241",
     "status": "completed"
    },
    "tags": []
   },
   "outputs": [
    {
     "data": {
      "text/plain": [
       "<matplotlib.legend.Legend at 0x7ff8d90d8410>"
      ]
     },
     "execution_count": 18,
     "metadata": {},
     "output_type": "execute_result"
    },
    {
     "data": {
      "image/png": "[encoded data removed]",
      "text/plain": [
       "<Figure size 720x720 with 1 Axes>"
      ]
     },
     "metadata": {
      "needs_background": "light"
     },
     "output_type": "display_data"
    }
   ],
   "source": [
    "# plot Glucose vs BloodPressure and color points according to Outcome\n",
    "plt.figure(figsize=(10,10))\n",
    "sns.scatterplot(df[df['Outcome']==1].Glucose, df[df['Outcome']==1].BloodPressure, color='r',label='Glucose & Blood pressure - Positive' )\n",
    "sns.scatterplot(df[df['Outcome']==0].Glucose, df[df['Outcome']==0].BloodPressure, color='y',label='Glucose & Blood pressure - Negative' )\n",
    "plt.title(' Scatter plot')\n",
    "plt.legend()\n"
   ]
  },
  {
   "cell_type": "code",
   "execution_count": 19,
   "metadata": {
    "execution": {
     "iopub.execute_input": "2021-09-30T11:15:32.226574Z",
     "iopub.status.busy": "2021-09-30T11:15:32.225474Z",
     "iopub.status.idle": "2021-09-30T11:15:32.230268Z",
     "shell.execute_reply": "2021-09-30T11:15:32.229346Z",
     "shell.execute_reply.started": "2021-09-30T11:13:56.456060Z"
    },
    "papermill": {
     "duration": 0.081646,
     "end_time": "2021-09-30T11:15:32.230458",
     "exception": false,
     "start_time": "2021-09-30T11:15:32.148812",
     "status": "completed"
    },
    "tags": []
   },
   "outputs": [
    {
     "data": {
      "text/plain": [
       "24"
      ]
     },
     "execution_count": 19,
     "metadata": {},
     "output_type": "execute_result"
    }
   ],
   "source": [
    "max([ len (c) for c in df.columns ] )"
   ]
  },
  {
   "cell_type": "code",
   "execution_count": 20,
   "metadata": {
    "execution": {
     "iopub.execute_input": "2021-09-30T11:15:32.396937Z",
     "iopub.status.busy": "2021-09-30T11:15:32.395159Z",
     "iopub.status.idle": "2021-09-30T11:15:33.986166Z",
     "shell.execute_reply": "2021-09-30T11:15:33.985130Z",
     "shell.execute_reply.started": "2021-09-30T11:13:56.465880Z"
    },
    "papermill": {
     "duration": 1.676175,
     "end_time": "2021-09-30T11:15:33.986368",
     "exception": false,
     "start_time": "2021-09-30T11:15:32.310193",
     "status": "completed"
    },
    "tags": []
   },
   "outputs": [
    {
     "data": {
      "image/png": "[encoded data removed]",
      "text/plain": [
       "<Figure size 432x288 with 1 Axes>"
      ]
     },
     "metadata": {
      "needs_background": "light"
     },
     "output_type": "display_data"
    },
    {
     "data": {
      "image/png": "[encoded data removed]",
      "text/plain": [
       "<Figure size 432x288 with 1 Axes>"
      ]
     },
     "metadata": {
      "needs_background": "light"
     },
     "output_type": "display_data"
    },
    {
     "data": {
      "image/png": "[encoded data removed]",
      "text/plain": [
       "<Figure size 432x288 with 1 Axes>"
      ]
     },
     "metadata": {
      "needs_background": "light"
     },
     "output_type": "display_data"
    },
    {
     "data": {
      "image/png": "[encoded data removed]",
      "text/plain": [
       "<Figure size 432x288 with 1 Axes>"
      ]
     },
     "metadata": {
      "needs_background": "light"
     },
     "output_type": "display_data"
    },
    {
     "data": {
      "image/png": "[encoded data removed]",
      "text/plain": [
       "<Figure size 432x288 with 1 Axes>"
      ]
     },
     "metadata": {
      "needs_background": "light"
     },
     "output_type": "display_data"
    },
    {
     "data": {
      "image/png": "[encoded data removed]",
      "text/plain": [
       "<Figure size 432x288 with 1 Axes>"
      ]
     },
     "metadata": {
      "needs_background": "light"
     },
     "output_type": "display_data"
    },
    {
     "data": {
      "image/png": "[encoded data removed]",
      "text/plain": [
       "<Figure size 432x288 with 1 Axes>"
      ]
     },
     "metadata": {
      "needs_background": "light"
     },
     "output_type": "display_data"
    },
    {
     "data": {
      "image/png": "[encoded data removed]",
      "text/plain": [
       "<Figure size 432x288 with 1 Axes>"
      ]
     },
     "metadata": {
      "needs_background": "light"
     },
     "output_type": "display_data"
    },
    {
     "data": {
      "image/png": "[encoded data removed]",
      "text/plain": [
       "<Figure size 432x288 with 1 Axes>"
      ]
     },
     "metadata": {
      "needs_background": "light"
     },
     "output_type": "display_data"
    }
   ],
   "source": [
    "for i in df.columns:\n",
    "    plt.figure()\n",
    "    plt.hist(df[i])\n",
    "    plt.xlabel(i)\n",
    "    plt.ylabel ('Fréquence')"
   ]
  },
  {
   "cell_type": "markdown",
   "metadata": {
    "papermill": {
     "duration": 0.064894,
     "end_time": "2021-09-30T11:15:34.128407",
     "exception": false,
     "start_time": "2021-09-30T11:15:34.063513",
     "status": "completed"
    },
    "tags": []
   },
   "source": [
    "**show value 0 in column**"
   ]
  },
  {
   "cell_type": "code",
   "execution_count": 21,
   "metadata": {
    "execution": {
     "iopub.execute_input": "2021-09-30T11:15:34.279606Z",
     "iopub.status.busy": "2021-09-30T11:15:34.278544Z",
     "iopub.status.idle": "2021-09-30T11:15:34.478223Z",
     "shell.execute_reply": "2021-09-30T11:15:34.477474Z",
     "shell.execute_reply.started": "2021-09-30T11:13:58.067423Z"
    },
    "papermill": {
     "duration": 0.283388,
     "end_time": "2021-09-30T11:15:34.478374",
     "exception": false,
     "start_time": "2021-09-30T11:15:34.194986",
     "status": "completed"
    },
    "tags": []
   },
   "outputs": [
    {
     "data": {
      "text/plain": [
       "<matplotlib.axes._subplots.AxesSubplot at 0x7ff8d89c7850>"
      ]
     },
     "execution_count": 21,
     "metadata": {},
     "output_type": "execute_result"
    },
    {
     "data": {
      "image/png": "[encoded data removed]",
      "text/plain": [
       "<Figure size 720x720 with 1 Axes>"
      ]
     },
     "metadata": {
      "needs_background": "light"
     },
     "output_type": "display_data"
    }
   ],
   "source": [
    "plt.figure(figsize=(10,10))\n",
    "sns.scatterplot(df[df['Outcome']==1].BloodPressure, df[df['Outcome']==1].Glucose, color='r',label='Glucose & Blood pressure - Positive' )"
   ]
  },
  {
   "cell_type": "code",
   "execution_count": 22,
   "metadata": {
    "execution": {
     "iopub.execute_input": "2021-09-30T11:15:34.625709Z",
     "iopub.status.busy": "2021-09-30T11:15:34.623396Z",
     "iopub.status.idle": "2021-09-30T11:15:34.847939Z",
     "shell.execute_reply": "2021-09-30T11:15:34.847120Z",
     "shell.execute_reply.started": "2021-09-30T11:13:58.292914Z"
    },
    "papermill": {
     "duration": 0.300139,
     "end_time": "2021-09-30T11:15:34.848233",
     "exception": false,
     "start_time": "2021-09-30T11:15:34.548094",
     "status": "completed"
    },
    "tags": []
   },
   "outputs": [
    {
     "data": {
      "text/plain": [
       "Text(0, 0.5, 'Frequence')"
      ]
     },
     "execution_count": 22,
     "metadata": {},
     "output_type": "execute_result"
    },
    {
     "data": {
      "image/png": "[encoded data removed]",
      "text/plain": [
       "<Figure size 360x360 with 1 Axes>"
      ]
     },
     "metadata": {
      "needs_background": "light"
     },
     "output_type": "display_data"
    }
   ],
   "source": [
    "#Exemple 2 : superposition des histogrammes de l'Age en fonction du diabète\n",
    "plt.figure(figsize=(5,5))\n",
    "plt.hist(df[df['Outcome']==1].Age,color='r',label='Age with diabte',alpha=0.2 )\n",
    "plt.hist(df[df['Outcome']==0].Age,color='green',label='Age with no diabte',alpha=0.2) \n",
    "plt.legend()\n",
    "plt.xlabel('age')\n",
    "plt.ylabel('Frequence')"
   ]
  },
  {
   "cell_type": "code",
   "execution_count": 23,
   "metadata": {
    "execution": {
     "iopub.execute_input": "2021-09-30T11:15:35.002952Z",
     "iopub.status.busy": "2021-09-30T11:15:35.001848Z",
     "iopub.status.idle": "2021-09-30T11:15:35.007624Z",
     "shell.execute_reply": "2021-09-30T11:15:35.006899Z",
     "shell.execute_reply.started": "2021-09-30T11:13:58.523789Z"
    },
    "papermill": {
     "duration": 0.088897,
     "end_time": "2021-09-30T11:15:35.007764",
     "exception": false,
     "start_time": "2021-09-30T11:15:34.918867",
     "status": "completed"
    },
    "tags": []
   },
   "outputs": [
    {
     "data": {
      "text/plain": [
       "0.23177083333333334"
      ]
     },
     "execution_count": 23,
     "metadata": {},
     "output_type": "execute_result"
    }
   ],
   "source": [
    "#taux des personnes plus de 30 a diabte\n",
    "len(df[(df.Age>30) & (df.Outcome ==1)])/df.shape[0]"
   ]
  },
  {
   "cell_type": "code",
   "execution_count": 24,
   "metadata": {
    "execution": {
     "iopub.execute_input": "2021-09-30T11:15:35.162754Z",
     "iopub.status.busy": "2021-09-30T11:15:35.162038Z",
     "iopub.status.idle": "2021-09-30T11:15:35.165643Z",
     "shell.execute_reply": "2021-09-30T11:15:35.166299Z",
     "shell.execute_reply.started": "2021-09-30T11:13:58.534070Z"
    },
    "papermill": {
     "duration": 0.088087,
     "end_time": "2021-09-30T11:15:35.166502",
     "exception": false,
     "start_time": "2021-09-30T11:15:35.078415",
     "status": "completed"
    },
    "tags": []
   },
   "outputs": [
    {
     "data": {
      "text/plain": [
       "Pregnancies                 111\n",
       "Glucose                       5\n",
       "BloodPressure                35\n",
       "SkinThickness               227\n",
       "Insulin                     374\n",
       "BMI                          11\n",
       "DiabetesPedigreeFunction      0\n",
       "Age                           0\n",
       "Outcome                     500\n",
       "dtype: int64"
      ]
     },
     "execution_count": 24,
     "metadata": {},
     "output_type": "execute_result"
    }
   ],
   "source": [
    "df.isin([0]).sum()"
   ]
  },
  {
   "cell_type": "markdown",
   "metadata": {
    "papermill": {
     "duration": 0.065754,
     "end_time": "2021-09-30T11:15:35.300093",
     "exception": false,
     "start_time": "2021-09-30T11:15:35.234339",
     "status": "completed"
    },
    "tags": []
   },
   "source": [
    "**Étape 3 :**\n",
    "* La préparation des données pour le traitement se divise en 2 sous-étapes :\n",
    "\n",
    "* Correction de l'ensemble initial ;\n",
    "* Nous avons remarqué que le colonne Insuline était insuffisamment renseignée et nous allons la retirer\n",
    "* Certaines valeurs à 0 doivent(/peuvent) être remplacées par la moyenne\n",
    "* Division de l'ensemble de données en un ensemble d'entrainement et un ensemble de test (TRAIN/TEST)"
   ]
  },
  {
   "cell_type": "code",
   "execution_count": 25,
   "metadata": {
    "execution": {
     "iopub.execute_input": "2021-09-30T11:15:35.436765Z",
     "iopub.status.busy": "2021-09-30T11:15:35.436143Z",
     "iopub.status.idle": "2021-09-30T11:15:35.443131Z",
     "shell.execute_reply": "2021-09-30T11:15:35.443699Z",
     "shell.execute_reply.started": "2021-09-30T11:13:58.551922Z"
    },
    "papermill": {
     "duration": 0.077558,
     "end_time": "2021-09-30T11:15:35.443864",
     "exception": false,
     "start_time": "2021-09-30T11:15:35.366306",
     "status": "completed"
    },
    "tags": []
   },
   "outputs": [],
   "source": [
    "df2 =df\n",
    "df2.drop('Insulin', axis=1, inplace=True)\n",
    "\n",
    "    \n"
   ]
  },
  {
   "cell_type": "code",
   "execution_count": 26,
   "metadata": {
    "execution": {
     "iopub.execute_input": "2021-09-30T11:15:35.581383Z",
     "iopub.status.busy": "2021-09-30T11:15:35.580721Z",
     "iopub.status.idle": "2021-09-30T11:15:35.601067Z",
     "shell.execute_reply": "2021-09-30T11:15:35.601635Z",
     "shell.execute_reply.started": "2021-09-30T11:13:58.561825Z"
    },
    "papermill": {
     "duration": 0.090881,
     "end_time": "2021-09-30T11:15:35.601973",
     "exception": false,
     "start_time": "2021-09-30T11:15:35.511092",
     "status": "completed"
    },
    "tags": []
   },
   "outputs": [
    {
     "data": {
      "text/html": [
       "<div>\n",
       "<style scoped>\n",
       "    .dataframe tbody tr th:only-of-type {\n",
       "        vertical-align: middle;\n",
       "    }\n",
       "\n",
       "    .dataframe tbody tr th {\n",
       "        vertical-align: top;\n",
       "    }\n",
       "\n",
       "    .dataframe thead th {\n",
       "        text-align: right;\n",
       "    }\n",
       "</style>\n",
       "<table border=\"1\" class=\"dataframe\">\n",
       "  <thead>\n",
       "    <tr style=\"text-align: right;\">\n",
       "      <th></th>\n",
       "      <th>Pregnancies</th>\n",
       "      <th>Glucose</th>\n",
       "      <th>BloodPressure</th>\n",
       "      <th>SkinThickness</th>\n",
       "      <th>BMI</th>\n",
       "      <th>DiabetesPedigreeFunction</th>\n",
       "      <th>Age</th>\n",
       "      <th>Outcome</th>\n",
       "    </tr>\n",
       "  </thead>\n",
       "  <tbody>\n",
       "    <tr>\n",
       "      <th>0</th>\n",
       "      <td>6</td>\n",
       "      <td>148</td>\n",
       "      <td>72</td>\n",
       "      <td>35</td>\n",
       "      <td>33.6</td>\n",
       "      <td>0.627</td>\n",
       "      <td>50</td>\n",
       "      <td>1</td>\n",
       "    </tr>\n",
       "    <tr>\n",
       "      <th>1</th>\n",
       "      <td>1</td>\n",
       "      <td>85</td>\n",
       "      <td>66</td>\n",
       "      <td>29</td>\n",
       "      <td>26.6</td>\n",
       "      <td>0.351</td>\n",
       "      <td>31</td>\n",
       "      <td>0</td>\n",
       "    </tr>\n",
       "    <tr>\n",
       "      <th>2</th>\n",
       "      <td>8</td>\n",
       "      <td>183</td>\n",
       "      <td>64</td>\n",
       "      <td>0</td>\n",
       "      <td>23.3</td>\n",
       "      <td>0.672</td>\n",
       "      <td>32</td>\n",
       "      <td>1</td>\n",
       "    </tr>\n",
       "    <tr>\n",
       "      <th>3</th>\n",
       "      <td>1</td>\n",
       "      <td>89</td>\n",
       "      <td>66</td>\n",
       "      <td>23</td>\n",
       "      <td>28.1</td>\n",
       "      <td>0.167</td>\n",
       "      <td>21</td>\n",
       "      <td>0</td>\n",
       "    </tr>\n",
       "    <tr>\n",
       "      <th>4</th>\n",
       "      <td>0</td>\n",
       "      <td>137</td>\n",
       "      <td>40</td>\n",
       "      <td>35</td>\n",
       "      <td>43.1</td>\n",
       "      <td>2.288</td>\n",
       "      <td>33</td>\n",
       "      <td>1</td>\n",
       "    </tr>\n",
       "    <tr>\n",
       "      <th>...</th>\n",
       "      <td>...</td>\n",
       "      <td>...</td>\n",
       "      <td>...</td>\n",
       "      <td>...</td>\n",
       "      <td>...</td>\n",
       "      <td>...</td>\n",
       "      <td>...</td>\n",
       "      <td>...</td>\n",
       "    </tr>\n",
       "    <tr>\n",
       "      <th>763</th>\n",
       "      <td>10</td>\n",
       "      <td>101</td>\n",
       "      <td>76</td>\n",
       "      <td>48</td>\n",
       "      <td>32.9</td>\n",
       "      <td>0.171</td>\n",
       "      <td>63</td>\n",
       "      <td>0</td>\n",
       "    </tr>\n",
       "    <tr>\n",
       "      <th>764</th>\n",
       "      <td>2</td>\n",
       "      <td>122</td>\n",
       "      <td>70</td>\n",
       "      <td>27</td>\n",
       "      <td>36.8</td>\n",
       "      <td>0.340</td>\n",
       "      <td>27</td>\n",
       "      <td>0</td>\n",
       "    </tr>\n",
       "    <tr>\n",
       "      <th>765</th>\n",
       "      <td>5</td>\n",
       "      <td>121</td>\n",
       "      <td>72</td>\n",
       "      <td>23</td>\n",
       "      <td>26.2</td>\n",
       "      <td>0.245</td>\n",
       "      <td>30</td>\n",
       "      <td>0</td>\n",
       "    </tr>\n",
       "    <tr>\n",
       "      <th>766</th>\n",
       "      <td>1</td>\n",
       "      <td>126</td>\n",
       "      <td>60</td>\n",
       "      <td>0</td>\n",
       "      <td>30.1</td>\n",
       "      <td>0.349</td>\n",
       "      <td>47</td>\n",
       "      <td>1</td>\n",
       "    </tr>\n",
       "    <tr>\n",
       "      <th>767</th>\n",
       "      <td>1</td>\n",
       "      <td>93</td>\n",
       "      <td>70</td>\n",
       "      <td>31</td>\n",
       "      <td>30.4</td>\n",
       "      <td>0.315</td>\n",
       "      <td>23</td>\n",
       "      <td>0</td>\n",
       "    </tr>\n",
       "  </tbody>\n",
       "</table>\n",
       "<p>768 rows × 8 columns</p>\n",
       "</div>"
      ],
      "text/plain": [
       "     Pregnancies  Glucose  BloodPressure  SkinThickness   BMI  \\\n",
       "0              6      148             72             35  33.6   \n",
       "1              1       85             66             29  26.6   \n",
       "2              8      183             64              0  23.3   \n",
       "3              1       89             66             23  28.1   \n",
       "4              0      137             40             35  43.1   \n",
       "..           ...      ...            ...            ...   ...   \n",
       "763           10      101             76             48  32.9   \n",
       "764            2      122             70             27  36.8   \n",
       "765            5      121             72             23  26.2   \n",
       "766            1      126             60              0  30.1   \n",
       "767            1       93             70             31  30.4   \n",
       "\n",
       "     DiabetesPedigreeFunction  Age  Outcome  \n",
       "0                       0.627   50        1  \n",
       "1                       0.351   31        0  \n",
       "2                       0.672   32        1  \n",
       "3                       0.167   21        0  \n",
       "4                       2.288   33        1  \n",
       "..                        ...  ...      ...  \n",
       "763                     0.171   63        0  \n",
       "764                     0.340   27        0  \n",
       "765                     0.245   30        0  \n",
       "766                     0.349   47        1  \n",
       "767                     0.315   23        0  \n",
       "\n",
       "[768 rows x 8 columns]"
      ]
     },
     "execution_count": 26,
     "metadata": {},
     "output_type": "execute_result"
    }
   ],
   "source": [
    "df2"
   ]
  },
  {
   "cell_type": "code",
   "execution_count": 27,
   "metadata": {
    "execution": {
     "iopub.execute_input": "2021-09-30T11:15:35.753857Z",
     "iopub.status.busy": "2021-09-30T11:15:35.753146Z",
     "iopub.status.idle": "2021-09-30T11:15:35.760475Z",
     "shell.execute_reply": "2021-09-30T11:15:35.761012Z",
     "shell.execute_reply.started": "2021-09-30T11:13:58.588715Z"
    },
    "papermill": {
     "duration": 0.083626,
     "end_time": "2021-09-30T11:15:35.761203",
     "exception": false,
     "start_time": "2021-09-30T11:15:35.677577",
     "status": "completed"
    },
    "tags": []
   },
   "outputs": [
    {
     "data": {
      "text/plain": [
       "Index(['Pregnancies', 'Glucose', 'BloodPressure', 'SkinThickness', 'BMI',\n",
       "       'DiabetesPedigreeFunction', 'Age', 'Outcome'],\n",
       "      dtype='object')"
      ]
     },
     "execution_count": 27,
     "metadata": {},
     "output_type": "execute_result"
    }
   ],
   "source": [
    "df2= df2.replace({0: np.nan})\n",
    "df2.columns\n"
   ]
  },
  {
   "cell_type": "code",
   "execution_count": 28,
   "metadata": {
    "execution": {
     "iopub.execute_input": "2021-09-30T11:15:35.914349Z",
     "iopub.status.busy": "2021-09-30T11:15:35.913476Z",
     "iopub.status.idle": "2021-09-30T11:15:35.943233Z",
     "shell.execute_reply": "2021-09-30T11:15:35.942465Z",
     "shell.execute_reply.started": "2021-09-30T11:13:58.605926Z"
    },
    "papermill": {
     "duration": 0.107053,
     "end_time": "2021-09-30T11:15:35.943378",
     "exception": false,
     "start_time": "2021-09-30T11:15:35.836325",
     "status": "completed"
    },
    "tags": []
   },
   "outputs": [
    {
     "data": {
      "text/html": [
       "<div>\n",
       "<style scoped>\n",
       "    .dataframe tbody tr th:only-of-type {\n",
       "        vertical-align: middle;\n",
       "    }\n",
       "\n",
       "    .dataframe tbody tr th {\n",
       "        vertical-align: top;\n",
       "    }\n",
       "\n",
       "    .dataframe thead th {\n",
       "        text-align: right;\n",
       "    }\n",
       "</style>\n",
       "<table border=\"1\" class=\"dataframe\">\n",
       "  <thead>\n",
       "    <tr style=\"text-align: right;\">\n",
       "      <th></th>\n",
       "      <th>Pregnancies</th>\n",
       "      <th>Glucose</th>\n",
       "      <th>BloodPressure</th>\n",
       "      <th>SkinThickness</th>\n",
       "      <th>BMI</th>\n",
       "      <th>DiabetesPedigreeFunction</th>\n",
       "      <th>Age</th>\n",
       "      <th>Outcome</th>\n",
       "    </tr>\n",
       "  </thead>\n",
       "  <tbody>\n",
       "    <tr>\n",
       "      <th>0</th>\n",
       "      <td>6.000000</td>\n",
       "      <td>148.0</td>\n",
       "      <td>72.0</td>\n",
       "      <td>35.000000</td>\n",
       "      <td>33.6</td>\n",
       "      <td>0.627</td>\n",
       "      <td>50.0</td>\n",
       "      <td>1.0</td>\n",
       "    </tr>\n",
       "    <tr>\n",
       "      <th>1</th>\n",
       "      <td>1.000000</td>\n",
       "      <td>85.0</td>\n",
       "      <td>66.0</td>\n",
       "      <td>29.000000</td>\n",
       "      <td>26.6</td>\n",
       "      <td>0.351</td>\n",
       "      <td>31.0</td>\n",
       "      <td>0.0</td>\n",
       "    </tr>\n",
       "    <tr>\n",
       "      <th>2</th>\n",
       "      <td>8.000000</td>\n",
       "      <td>183.0</td>\n",
       "      <td>64.0</td>\n",
       "      <td>20.536458</td>\n",
       "      <td>23.3</td>\n",
       "      <td>0.672</td>\n",
       "      <td>32.0</td>\n",
       "      <td>1.0</td>\n",
       "    </tr>\n",
       "    <tr>\n",
       "      <th>3</th>\n",
       "      <td>1.000000</td>\n",
       "      <td>89.0</td>\n",
       "      <td>66.0</td>\n",
       "      <td>23.000000</td>\n",
       "      <td>28.1</td>\n",
       "      <td>0.167</td>\n",
       "      <td>21.0</td>\n",
       "      <td>0.0</td>\n",
       "    </tr>\n",
       "    <tr>\n",
       "      <th>4</th>\n",
       "      <td>3.845052</td>\n",
       "      <td>137.0</td>\n",
       "      <td>40.0</td>\n",
       "      <td>35.000000</td>\n",
       "      <td>43.1</td>\n",
       "      <td>2.288</td>\n",
       "      <td>33.0</td>\n",
       "      <td>1.0</td>\n",
       "    </tr>\n",
       "    <tr>\n",
       "      <th>...</th>\n",
       "      <td>...</td>\n",
       "      <td>...</td>\n",
       "      <td>...</td>\n",
       "      <td>...</td>\n",
       "      <td>...</td>\n",
       "      <td>...</td>\n",
       "      <td>...</td>\n",
       "      <td>...</td>\n",
       "    </tr>\n",
       "    <tr>\n",
       "      <th>763</th>\n",
       "      <td>10.000000</td>\n",
       "      <td>101.0</td>\n",
       "      <td>76.0</td>\n",
       "      <td>48.000000</td>\n",
       "      <td>32.9</td>\n",
       "      <td>0.171</td>\n",
       "      <td>63.0</td>\n",
       "      <td>0.0</td>\n",
       "    </tr>\n",
       "    <tr>\n",
       "      <th>764</th>\n",
       "      <td>2.000000</td>\n",
       "      <td>122.0</td>\n",
       "      <td>70.0</td>\n",
       "      <td>27.000000</td>\n",
       "      <td>36.8</td>\n",
       "      <td>0.340</td>\n",
       "      <td>27.0</td>\n",
       "      <td>0.0</td>\n",
       "    </tr>\n",
       "    <tr>\n",
       "      <th>765</th>\n",
       "      <td>5.000000</td>\n",
       "      <td>121.0</td>\n",
       "      <td>72.0</td>\n",
       "      <td>23.000000</td>\n",
       "      <td>26.2</td>\n",
       "      <td>0.245</td>\n",
       "      <td>30.0</td>\n",
       "      <td>0.0</td>\n",
       "    </tr>\n",
       "    <tr>\n",
       "      <th>766</th>\n",
       "      <td>1.000000</td>\n",
       "      <td>126.0</td>\n",
       "      <td>60.0</td>\n",
       "      <td>20.536458</td>\n",
       "      <td>30.1</td>\n",
       "      <td>0.349</td>\n",
       "      <td>47.0</td>\n",
       "      <td>1.0</td>\n",
       "    </tr>\n",
       "    <tr>\n",
       "      <th>767</th>\n",
       "      <td>1.000000</td>\n",
       "      <td>93.0</td>\n",
       "      <td>70.0</td>\n",
       "      <td>31.000000</td>\n",
       "      <td>30.4</td>\n",
       "      <td>0.315</td>\n",
       "      <td>23.0</td>\n",
       "      <td>0.0</td>\n",
       "    </tr>\n",
       "  </tbody>\n",
       "</table>\n",
       "<p>768 rows × 8 columns</p>\n",
       "</div>"
      ],
      "text/plain": [
       "     Pregnancies  Glucose  BloodPressure  SkinThickness   BMI  \\\n",
       "0       6.000000    148.0           72.0      35.000000  33.6   \n",
       "1       1.000000     85.0           66.0      29.000000  26.6   \n",
       "2       8.000000    183.0           64.0      20.536458  23.3   \n",
       "3       1.000000     89.0           66.0      23.000000  28.1   \n",
       "4       3.845052    137.0           40.0      35.000000  43.1   \n",
       "..           ...      ...            ...            ...   ...   \n",
       "763    10.000000    101.0           76.0      48.000000  32.9   \n",
       "764     2.000000    122.0           70.0      27.000000  36.8   \n",
       "765     5.000000    121.0           72.0      23.000000  26.2   \n",
       "766     1.000000    126.0           60.0      20.536458  30.1   \n",
       "767     1.000000     93.0           70.0      31.000000  30.4   \n",
       "\n",
       "     DiabetesPedigreeFunction   Age  Outcome  \n",
       "0                       0.627  50.0      1.0  \n",
       "1                       0.351  31.0      0.0  \n",
       "2                       0.672  32.0      1.0  \n",
       "3                       0.167  21.0      0.0  \n",
       "4                       2.288  33.0      1.0  \n",
       "..                        ...   ...      ...  \n",
       "763                     0.171  63.0      0.0  \n",
       "764                     0.340  27.0      0.0  \n",
       "765                     0.245  30.0      0.0  \n",
       "766                     0.349  47.0      1.0  \n",
       "767                     0.315  23.0      0.0  \n",
       "\n",
       "[768 rows x 8 columns]"
      ]
     },
     "execution_count": 28,
     "metadata": {},
     "output_type": "execute_result"
    }
   ],
   "source": [
    "df2[['Pregnancies', 'Glucose', 'BloodPressure', 'SkinThickness', 'BMI',\n",
    "       'DiabetesPedigreeFunction', 'Age']]=df2[['Pregnancies', 'Glucose', 'BloodPressure', 'SkinThickness', 'BMI',\n",
    "       'DiabetesPedigreeFunction', 'Age']].fillna(df.mean())\n",
    "df2['Outcome']=df2['Outcome'].fillna(0)\n",
    "df2"
   ]
  },
  {
   "cell_type": "markdown",
   "metadata": {
    "papermill": {
     "duration": 0.073285,
     "end_time": "2021-09-30T11:15:36.091034",
     "exception": false,
     "start_time": "2021-09-30T11:15:36.017749",
     "status": "completed"
    },
    "tags": []
   },
   "source": [
    "**correlation with value 0**"
   ]
  },
  {
   "cell_type": "code",
   "execution_count": 29,
   "metadata": {
    "execution": {
     "iopub.execute_input": "2021-09-30T11:15:36.265922Z",
     "iopub.status.busy": "2021-09-30T11:15:36.263475Z",
     "iopub.status.idle": "2021-09-30T11:15:36.698026Z",
     "shell.execute_reply": "2021-09-30T11:15:36.697448Z",
     "shell.execute_reply.started": "2021-09-30T11:13:58.641654Z"
    },
    "papermill": {
     "duration": 0.533394,
     "end_time": "2021-09-30T11:15:36.698152",
     "exception": false,
     "start_time": "2021-09-30T11:15:36.164758",
     "status": "completed"
    },
    "tags": []
   },
   "outputs": [
    {
     "data": {
      "text/plain": [
       "<matplotlib.axes._subplots.AxesSubplot at 0x7ff8d8886690>"
      ]
     },
     "execution_count": 29,
     "metadata": {},
     "output_type": "execute_result"
    },
    {
     "data": {
      "image/png": "[encoded data removed]",
      "text/plain": [
       "<Figure size 432x288 with 2 Axes>"
      ]
     },
     "metadata": {
      "needs_background": "light"
     },
     "output_type": "display_data"
    }
   ],
   "source": [
    "sns.heatmap(df.corr(), annot=True)"
   ]
  },
  {
   "cell_type": "markdown",
   "metadata": {
    "papermill": {
     "duration": 0.06976,
     "end_time": "2021-09-30T11:15:36.838888",
     "exception": false,
     "start_time": "2021-09-30T11:15:36.769128",
     "status": "completed"
    },
    "tags": []
   },
   "source": [
    "****correlation with no value 0****"
   ]
  },
  {
   "cell_type": "code",
   "execution_count": 30,
   "metadata": {
    "execution": {
     "iopub.execute_input": "2021-09-30T11:15:36.986736Z",
     "iopub.status.busy": "2021-09-30T11:15:36.985687Z",
     "iopub.status.idle": "2021-09-30T11:15:37.422434Z",
     "shell.execute_reply": "2021-09-30T11:15:37.421802Z",
     "shell.execute_reply.started": "2021-09-30T11:13:59.092733Z"
    },
    "papermill": {
     "duration": 0.51291,
     "end_time": "2021-09-30T11:15:37.422568",
     "exception": false,
     "start_time": "2021-09-30T11:15:36.909658",
     "status": "completed"
    },
    "tags": []
   },
   "outputs": [
    {
     "data": {
      "text/plain": [
       "<matplotlib.axes._subplots.AxesSubplot at 0x7ff8d8711a90>"
      ]
     },
     "execution_count": 30,
     "metadata": {},
     "output_type": "execute_result"
    },
    {
     "data": {
      "image/png": "[encoded data removed]",
      "text/plain": [
       "<Figure size 432x288 with 2 Axes>"
      ]
     },
     "metadata": {
      "needs_background": "light"
     },
     "output_type": "display_data"
    }
   ],
   "source": [
    "sns.heatmap(df2.corr(), annot=True)"
   ]
  },
  {
   "cell_type": "markdown",
   "metadata": {
    "papermill": {
     "duration": 0.07456,
     "end_time": "2021-09-30T11:15:37.571608",
     "exception": false,
     "start_time": "2021-09-30T11:15:37.497048",
     "status": "completed"
    },
    "tags": []
   },
   "source": [
    "**Visualisation univariate high relation**"
   ]
  },
  {
   "cell_type": "code",
   "execution_count": 31,
   "metadata": {
    "execution": {
     "iopub.execute_input": "2021-09-30T11:15:37.738170Z",
     "iopub.status.busy": "2021-09-30T11:15:37.737377Z",
     "iopub.status.idle": "2021-09-30T11:15:38.387125Z",
     "shell.execute_reply": "2021-09-30T11:15:38.386496Z",
     "shell.execute_reply.started": "2021-09-30T11:13:59.533404Z"
    },
    "papermill": {
     "duration": 0.739901,
     "end_time": "2021-09-30T11:15:38.387270",
     "exception": false,
     "start_time": "2021-09-30T11:15:37.647369",
     "status": "completed"
    },
    "tags": []
   },
   "outputs": [
    {
     "data": {
      "text/plain": [
       "<matplotlib.axes._subplots.AxesSubplot at 0x7ff8d8636650>"
      ]
     },
     "execution_count": 31,
     "metadata": {},
     "output_type": "execute_result"
    },
    {
     "data": {
      "image/png": "[encoded data removed]",
      "text/plain": [
       "<Figure size 720x720 with 2 Axes>"
      ]
     },
     "metadata": {
      "needs_background": "light"
     },
     "output_type": "display_data"
    }
   ],
   "source": [
    "fig = plt.figure(figsize=(10,10))\n",
    "# create subplot \n",
    "ax1 = fig.add_subplot(221)\n",
    "ax2 = fig.add_subplot(222)\n",
    "\n",
    "# add plot in ax\n",
    "sns.regplot(df2.BMI,df2.SkinThickness, ax = ax1)\n",
    "sns.regplot(df2.Pregnancies,df2.Age, ax=ax2)\n"
   ]
  },
  {
   "cell_type": "code",
   "execution_count": 32,
   "metadata": {
    "execution": {
     "iopub.execute_input": "2021-09-30T11:15:38.553646Z",
     "iopub.status.busy": "2021-09-30T11:15:38.552964Z",
     "iopub.status.idle": "2021-09-30T11:15:39.430051Z",
     "shell.execute_reply": "2021-09-30T11:15:39.429452Z",
     "shell.execute_reply.started": "2021-09-30T11:14:00.257442Z"
    },
    "papermill": {
     "duration": 0.965315,
     "end_time": "2021-09-30T11:15:39.430198",
     "exception": false,
     "start_time": "2021-09-30T11:15:38.464883",
     "status": "completed"
    },
    "tags": []
   },
   "outputs": [
    {
     "data": {
      "text/plain": [
       "<seaborn.axisgrid.JointGrid at 0x7ff8d7d31150>"
      ]
     },
     "execution_count": 32,
     "metadata": {},
     "output_type": "execute_result"
    },
    {
     "data": {
      "image/png": "[encoded data removed]",
      "text/plain": [
       "<Figure size 432x432 with 3 Axes>"
      ]
     },
     "metadata": {
      "needs_background": "light"
     },
     "output_type": "display_data"
    }
   ],
   "source": [
    "sns.jointplot(df2.Pregnancies,df2.Age, kind='reg')"
   ]
  },
  {
   "cell_type": "code",
   "execution_count": 33,
   "metadata": {
    "execution": {
     "iopub.execute_input": "2021-09-30T11:15:39.606299Z",
     "iopub.status.busy": "2021-09-30T11:15:39.605334Z",
     "iopub.status.idle": "2021-09-30T11:15:39.610547Z",
     "shell.execute_reply": "2021-09-30T11:15:39.610001Z",
     "shell.execute_reply.started": "2021-09-30T11:14:01.184680Z"
    },
    "papermill": {
     "duration": 0.102479,
     "end_time": "2021-09-30T11:15:39.610660",
     "exception": false,
     "start_time": "2021-09-30T11:15:39.508181",
     "status": "completed"
    },
    "tags": []
   },
   "outputs": [
    {
     "data": {
      "text/html": [
       "<div>\n",
       "<style scoped>\n",
       "    .dataframe tbody tr th:only-of-type {\n",
       "        vertical-align: middle;\n",
       "    }\n",
       "\n",
       "    .dataframe tbody tr th {\n",
       "        vertical-align: top;\n",
       "    }\n",
       "\n",
       "    .dataframe thead th {\n",
       "        text-align: right;\n",
       "    }\n",
       "</style>\n",
       "<table border=\"1\" class=\"dataframe\">\n",
       "  <thead>\n",
       "    <tr style=\"text-align: right;\">\n",
       "      <th></th>\n",
       "      <th>Glucose</th>\n",
       "    </tr>\n",
       "    <tr>\n",
       "      <th>Outcome</th>\n",
       "      <th></th>\n",
       "    </tr>\n",
       "  </thead>\n",
       "  <tbody>\n",
       "    <tr>\n",
       "      <th>0.0</th>\n",
       "      <td>110.705367</td>\n",
       "    </tr>\n",
       "    <tr>\n",
       "      <th>1.0</th>\n",
       "      <td>142.159661</td>\n",
       "    </tr>\n",
       "  </tbody>\n",
       "</table>\n",
       "</div>"
      ],
      "text/plain": [
       "            Glucose\n",
       "Outcome            \n",
       "0.0      110.705367\n",
       "1.0      142.159661"
      ]
     },
     "execution_count": 33,
     "metadata": {},
     "output_type": "execute_result"
    }
   ],
   "source": [
    "Glucose = pd.pivot_table(data=df2,index=['Outcome'],values=['Glucose'])\n",
    "Glucose"
   ]
  },
  {
   "cell_type": "code",
   "execution_count": 34,
   "metadata": {
    "execution": {
     "iopub.execute_input": "2021-09-30T11:15:39.777425Z",
     "iopub.status.busy": "2021-09-30T11:15:39.775407Z",
     "iopub.status.idle": "2021-09-30T11:15:40.055004Z",
     "shell.execute_reply": "2021-09-30T11:15:40.054317Z",
     "shell.execute_reply.started": "2021-09-30T11:14:01.208863Z"
    },
    "papermill": {
     "duration": 0.369121,
     "end_time": "2021-09-30T11:15:40.055135",
     "exception": false,
     "start_time": "2021-09-30T11:15:39.686014",
     "status": "completed"
    },
    "tags": []
   },
   "outputs": [
    {
     "data": {
      "text/plain": [
       "<matplotlib.legend.Legend at 0x7ff8d7b493d0>"
      ]
     },
     "execution_count": 34,
     "metadata": {},
     "output_type": "execute_result"
    },
    {
     "data": {
      "image/png": "[encoded data removed]",
      "text/plain": [
       "<Figure size 720x360 with 1 Axes>"
      ]
     },
     "metadata": {
      "needs_background": "light"
     },
     "output_type": "display_data"
    }
   ],
   "source": [
    "# plot Glucose according to Outcome\n",
    "plt.figure(figsize=(10,5))\n",
    "sns.distplot(df[df['Outcome']==1].Glucose, color='r',label='Glucose - Positive' )\n",
    "sns.distplot(df[df['Outcome']==0].Glucose, color='y',label='Glucose - Negative' )\n",
    "plt.title(' Distplot')\n",
    "plt.legend()"
   ]
  },
  {
   "cell_type": "code",
   "execution_count": 35,
   "metadata": {
    "execution": {
     "iopub.execute_input": "2021-09-30T11:15:40.230730Z",
     "iopub.status.busy": "2021-09-30T11:15:40.230027Z",
     "iopub.status.idle": "2021-09-30T11:15:40.233860Z",
     "shell.execute_reply": "2021-09-30T11:15:40.234355Z",
     "shell.execute_reply.started": "2021-09-30T11:14:01.506682Z"
    },
    "papermill": {
     "duration": 0.101091,
     "end_time": "2021-09-30T11:15:40.234499",
     "exception": false,
     "start_time": "2021-09-30T11:15:40.133408",
     "status": "completed"
    },
    "tags": []
   },
   "outputs": [
    {
     "data": {
      "text/html": [
       "<div>\n",
       "<style scoped>\n",
       "    .dataframe tbody tr th:only-of-type {\n",
       "        vertical-align: middle;\n",
       "    }\n",
       "\n",
       "    .dataframe tbody tr th {\n",
       "        vertical-align: top;\n",
       "    }\n",
       "\n",
       "    .dataframe thead th {\n",
       "        text-align: right;\n",
       "    }\n",
       "</style>\n",
       "<table border=\"1\" class=\"dataframe\">\n",
       "  <thead>\n",
       "    <tr style=\"text-align: right;\">\n",
       "      <th></th>\n",
       "      <th>SkinThickness</th>\n",
       "    </tr>\n",
       "    <tr>\n",
       "      <th>Outcome</th>\n",
       "      <th></th>\n",
       "    </tr>\n",
       "  </thead>\n",
       "  <tbody>\n",
       "    <tr>\n",
       "      <th>0.0</th>\n",
       "      <td>25.373135</td>\n",
       "    </tr>\n",
       "    <tr>\n",
       "      <th>1.0</th>\n",
       "      <td>28.907494</td>\n",
       "    </tr>\n",
       "  </tbody>\n",
       "</table>\n",
       "</div>"
      ],
      "text/plain": [
       "         SkinThickness\n",
       "Outcome               \n",
       "0.0          25.373135\n",
       "1.0          28.907494"
      ]
     },
     "execution_count": 35,
     "metadata": {},
     "output_type": "execute_result"
    }
   ],
   "source": [
    "Skin = pd.pivot_table(data=df2,index=['Outcome'],values=['SkinThickness'])\n",
    "Skin"
   ]
  },
  {
   "cell_type": "code",
   "execution_count": 36,
   "metadata": {
    "execution": {
     "iopub.execute_input": "2021-09-30T11:15:40.393060Z",
     "iopub.status.busy": "2021-09-30T11:15:40.392388Z",
     "iopub.status.idle": "2021-09-30T11:15:40.838384Z",
     "shell.execute_reply": "2021-09-30T11:15:40.838895Z",
     "shell.execute_reply.started": "2021-09-30T11:14:01.524840Z"
    },
    "papermill": {
     "duration": 0.527166,
     "end_time": "2021-09-30T11:15:40.839078",
     "exception": false,
     "start_time": "2021-09-30T11:15:40.311912",
     "status": "completed"
    },
    "tags": []
   },
   "outputs": [
    {
     "data": {
      "text/plain": [
       "<matplotlib.legend.Legend at 0x7ff8d7a9f950>"
      ]
     },
     "execution_count": 36,
     "metadata": {},
     "output_type": "execute_result"
    },
    {
     "data": {
      "image/png": "[encoded data removed]",
      "text/plain": [
       "<Figure size 720x360 with 1 Axes>"
      ]
     },
     "metadata": {
      "needs_background": "light"
     },
     "output_type": "display_data"
    }
   ],
   "source": [
    "\n",
    "\n",
    "# # plot SkinThickness according to Outcome\n",
    "plt.figure(figsize=(10,5))\n",
    "sns.distplot(df[df['Outcome']==1].SkinThickness, color='r',label='SkinThickness - Positive' )\n",
    "sns.distplot(df[df['Outcome']==0].SkinThickness, color='y',label='SkinThickness - Negative' )\n",
    "plt.title(' Distplot')\n",
    "plt.legend()"
   ]
  },
  {
   "cell_type": "code",
   "execution_count": 37,
   "metadata": {
    "execution": {
     "iopub.execute_input": "2021-09-30T11:15:41.011673Z",
     "iopub.status.busy": "2021-09-30T11:15:41.010565Z",
     "iopub.status.idle": "2021-09-30T11:15:41.448406Z",
     "shell.execute_reply": "2021-09-30T11:15:41.447800Z",
     "shell.execute_reply.started": "2021-09-30T11:14:01.896535Z"
    },
    "papermill": {
     "duration": 0.528755,
     "end_time": "2021-09-30T11:15:41.448552",
     "exception": false,
     "start_time": "2021-09-30T11:15:40.919797",
     "status": "completed"
    },
    "tags": []
   },
   "outputs": [
    {
     "data": {
      "text/plain": [
       "(array([ 0,  1,  2,  3,  4,  5,  6,  7,  8,  9, 10, 11, 12, 13, 14, 15, 16]),\n",
       " <a list of 17 Text major ticklabel objects>)"
      ]
     },
     "execution_count": 37,
     "metadata": {},
     "output_type": "execute_result"
    },
    {
     "data": {
      "image/png": "[encoded data removed]",
      "text/plain": [
       "<Figure size 720x720 with 1 Axes>"
      ]
     },
     "metadata": {
      "needs_background": "light"
     },
     "output_type": "display_data"
    }
   ],
   "source": [
    "plt.figure(figsize=(10,10))\n",
    "sns.boxplot(df2.Pregnancies,df2.Age)\n",
    "plt.xticks(rotation=90)"
   ]
  },
  {
   "cell_type": "markdown",
   "metadata": {
    "papermill": {
     "duration": 0.084922,
     "end_time": "2021-09-30T11:15:41.619446",
     "exception": false,
     "start_time": "2021-09-30T11:15:41.534524",
     "status": "completed"
    },
    "tags": []
   },
   "source": [
    "**Création des sous-ensemble d'entrainement et de test**"
   ]
  },
  {
   "cell_type": "code",
   "execution_count": 38,
   "metadata": {
    "execution": {
     "iopub.execute_input": "2021-09-30T11:15:41.790201Z",
     "iopub.status.busy": "2021-09-30T11:15:41.789496Z",
     "iopub.status.idle": "2021-09-30T11:15:41.913451Z",
     "shell.execute_reply": "2021-09-30T11:15:41.914065Z",
     "shell.execute_reply.started": "2021-09-30T11:14:02.352392Z"
    },
    "papermill": {
     "duration": 0.211493,
     "end_time": "2021-09-30T11:15:41.914224",
     "exception": false,
     "start_time": "2021-09-30T11:15:41.702731",
     "status": "completed"
    },
    "tags": []
   },
   "outputs": [
    {
     "name": "stdout",
     "output_type": "stream",
     "text": [
      "(537, 8)\n",
      "(231, 8)\n"
     ]
    }
   ],
   "source": [
    "import sklearn\n",
    "from sklearn.model_selection import train_test_split\n",
    "train, test = train_test_split(df2, test_size = 0.3, random_state = 0) \n",
    "print (train.shape)\n",
    "print (test.shape)"
   ]
  },
  {
   "cell_type": "code",
   "execution_count": 39,
   "metadata": {
    "execution": {
     "iopub.execute_input": "2021-09-30T11:15:42.081294Z",
     "iopub.status.busy": "2021-09-30T11:15:42.080649Z",
     "iopub.status.idle": "2021-09-30T11:15:42.087134Z",
     "shell.execute_reply": "2021-09-30T11:15:42.087611Z",
     "shell.execute_reply.started": "2021-09-30T11:14:02.487300Z"
    },
    "papermill": {
     "duration": 0.091275,
     "end_time": "2021-09-30T11:15:42.087763",
     "exception": false,
     "start_time": "2021-09-30T11:15:41.996488",
     "status": "completed"
    },
    "tags": []
   },
   "outputs": [
    {
     "data": {
      "text/plain": [
       "Index(['Pregnancies', 'Glucose', 'BloodPressure', 'SkinThickness', 'BMI',\n",
       "       'DiabetesPedigreeFunction', 'Age', 'Outcome'],\n",
       "      dtype='object')"
      ]
     },
     "execution_count": 39,
     "metadata": {},
     "output_type": "execute_result"
    }
   ],
   "source": [
    "train.columns"
   ]
  },
  {
   "cell_type": "code",
   "execution_count": 40,
   "metadata": {
    "execution": {
     "iopub.execute_input": "2021-09-30T11:15:42.265244Z",
     "iopub.status.busy": "2021-09-30T11:15:42.264548Z",
     "iopub.status.idle": "2021-09-30T11:15:42.268938Z",
     "shell.execute_reply": "2021-09-30T11:15:42.268186Z",
     "shell.execute_reply.started": "2021-09-30T11:14:02.497264Z"
    },
    "papermill": {
     "duration": 0.099894,
     "end_time": "2021-09-30T11:15:42.269071",
     "exception": false,
     "start_time": "2021-09-30T11:15:42.169177",
     "status": "completed"
    },
    "tags": []
   },
   "outputs": [],
   "source": [
    "X_train= train[['Pregnancies', 'Glucose', 'BloodPressure', 'SkinThickness', 'BMI',\n",
    "       'DiabetesPedigreeFunction', 'Age']]\n",
    "X_test= test[['Pregnancies', 'Glucose', 'BloodPressure', 'SkinThickness', 'BMI',\n",
    "       'DiabetesPedigreeFunction', 'Age']]\n",
    "Y_train = train['Outcome']\n",
    "Y_test = test['Outcome']\n"
   ]
  },
  {
   "cell_type": "markdown",
   "metadata": {
    "papermill": {
     "duration": 0.081621,
     "end_time": "2021-09-30T11:15:42.432440",
     "exception": false,
     "start_time": "2021-09-30T11:15:42.350819",
     "status": "completed"
    },
    "tags": []
   },
   "source": [
    "# ****La classification avec les arbres de decision****"
   ]
  },
  {
   "cell_type": "code",
   "execution_count": 41,
   "metadata": {
    "execution": {
     "iopub.execute_input": "2021-09-30T11:15:42.602636Z",
     "iopub.status.busy": "2021-09-30T11:15:42.601949Z",
     "iopub.status.idle": "2021-09-30T11:15:42.784442Z",
     "shell.execute_reply": "2021-09-30T11:15:42.783309Z",
     "shell.execute_reply.started": "2021-09-30T11:14:02.512666Z"
    },
    "papermill": {
     "duration": 0.270643,
     "end_time": "2021-09-30T11:15:42.784595",
     "exception": false,
     "start_time": "2021-09-30T11:15:42.513952",
     "status": "completed"
    },
    "tags": []
   },
   "outputs": [
    {
     "data": {
      "text/plain": [
       "DecisionTreeClassifier(max_depth=5, random_state=17)"
      ]
     },
     "execution_count": 41,
     "metadata": {},
     "output_type": "execute_result"
    }
   ],
   "source": [
    "from sklearn import tree\n",
    "from sklearn.tree import DecisionTreeClassifier\n",
    "clf = DecisionTreeClassifier(max_depth=5, random_state=17)\n",
    "clf.fit(X_train, Y_train)"
   ]
  },
  {
   "cell_type": "code",
   "execution_count": 42,
   "metadata": {
    "execution": {
     "iopub.execute_input": "2021-09-30T11:15:42.962863Z",
     "iopub.status.busy": "2021-09-30T11:15:42.961865Z",
     "iopub.status.idle": "2021-09-30T11:15:42.965746Z",
     "shell.execute_reply": "2021-09-30T11:15:42.966300Z",
     "shell.execute_reply.started": "2021-09-30T11:14:02.729910Z"
    },
    "papermill": {
     "duration": 0.098013,
     "end_time": "2021-09-30T11:15:42.966472",
     "exception": false,
     "start_time": "2021-09-30T11:15:42.868459",
     "status": "completed"
    },
    "tags": []
   },
   "outputs": [
    {
     "name": "stdout",
     "output_type": "stream",
     "text": [
      "0.7835497835497836\n"
     ]
    }
   ],
   "source": [
    "from sklearn.metrics import accuracy_score\n",
    "tree_pred = clf.predict(X_test)\n",
    "print(accuracy_score(Y_test, tree_pred))"
   ]
  },
  {
   "cell_type": "code",
   "execution_count": 43,
   "metadata": {
    "execution": {
     "iopub.execute_input": "2021-09-30T11:15:43.147517Z",
     "iopub.status.busy": "2021-09-30T11:15:43.146811Z",
     "iopub.status.idle": "2021-09-30T11:15:43.669901Z",
     "shell.execute_reply": "2021-09-30T11:15:43.669241Z",
     "shell.execute_reply.started": "2021-09-30T11:14:02.743806Z"
    },
    "papermill": {
     "duration": 0.614939,
     "end_time": "2021-09-30T11:15:43.670032",
     "exception": false,
     "start_time": "2021-09-30T11:15:43.055093",
     "status": "completed"
    },
    "tags": []
   },
   "outputs": [
    {
     "data": {
      "image/svg+xml": [
       "<?xml version=\"1.0\" encoding=\"UTF-8\" standalone=\"no\"?>\n",
       "<!DOCTYPE svg PUBLIC \"-//W3C//DTD SVG 1.1//EN\"\n",
       " \"http://www.w3.org/Graphics/SVG/1.1/DTD/svg11.dtd\">\n",
       "<!-- Generated by graphviz version 2.42.3 (20191010.1750)\n",
       " -->\n",
       "<!-- Title: Tree Pages: 1 -->\n",
       "<svg width=\"2313pt\" height=\"581pt\"\n",
       " viewBox=\"0.00 0.00 2313.00 581.00\" xmlns=\"http://www.w3.org/2000/svg\" xmlns:xlink=\"http://www.w3.org/1999/xlink\">\n",
       "<g id=\"graph0\" class=\"graph\" transform=\"scale(1 1) rotate(0) translate(4 577)\">\n",
       "<title>Tree</title>\n",
       "<polygon fill=\"white\" stroke=\"transparent\" points=\"-4,4 -4,-577 2309,-577 2309,4 -4,4\"/>\n",
       "<!-- 0 -->\n",
       "<g id=\"node1\" class=\"node\">\n",
       "<title>0</title>\n",
       "<polygon fill=\"#f4c8a9\" stroke=\"black\" points=\"1356.5,-573 1237.5,-573 1237.5,-505 1356.5,-505 1356.5,-573\"/>\n",
       "<text text-anchor=\"middle\" x=\"1297\" y=\"-557.8\" font-family=\"Times,serif\" font-size=\"14.00\">X[1] &lt;= 144.5</text>\n",
       "<text text-anchor=\"middle\" x=\"1297\" y=\"-542.8\" font-family=\"Times,serif\" font-size=\"14.00\">gini = 0.462</text>\n",
       "<text text-anchor=\"middle\" x=\"1297\" y=\"-527.8\" font-family=\"Times,serif\" font-size=\"14.00\">samples = 537</text>\n",
       "<text text-anchor=\"middle\" x=\"1297\" y=\"-512.8\" font-family=\"Times,serif\" font-size=\"14.00\">value = [343, 194]</text>\n",
       "</g>\n",
       "<!-- 1 -->\n",
       "<g id=\"node2\" class=\"node\">\n",
       "<title>1</title>\n",
       "<polygon fill=\"#eda978\" stroke=\"black\" points=\"1014.5,-469 895.5,-469 895.5,-401 1014.5,-401 1014.5,-469\"/>\n",
       "<text text-anchor=\"middle\" x=\"955\" y=\"-453.8\" font-family=\"Times,serif\" font-size=\"14.00\">X[6] &lt;= 28.5</text>\n",
       "<text text-anchor=\"middle\" x=\"955\" y=\"-438.8\" font-family=\"Times,serif\" font-size=\"14.00\">gini = 0.368</text>\n",
       "<text text-anchor=\"middle\" x=\"955\" y=\"-423.8\" font-family=\"Times,serif\" font-size=\"14.00\">samples = 412</text>\n",
       "<text text-anchor=\"middle\" x=\"955\" y=\"-408.8\" font-family=\"Times,serif\" font-size=\"14.00\">value = [312, 100]</text>\n",
       "</g>\n",
       "<!-- 0&#45;&gt;1 -->\n",
       "<g id=\"edge1\" class=\"edge\">\n",
       "<title>0&#45;&gt;1</title>\n",
       "<path fill=\"none\" stroke=\"black\" d=\"M1237.43,-520.23C1178.12,-502.54 1087.13,-475.41 1024.54,-456.74\"/>\n",
       "<polygon fill=\"black\" stroke=\"black\" points=\"1025.33,-453.32 1014.75,-453.82 1023.33,-460.03 1025.33,-453.32\"/>\n",
       "<text text-anchor=\"middle\" x=\"1026.64\" y=\"-472.11\" font-family=\"Times,serif\" font-size=\"14.00\">True</text>\n",
       "</g>\n",
       "<!-- 28 -->\n",
       "<g id=\"node29\" class=\"node\">\n",
       "<title>28</title>\n",
       "<polygon fill=\"#7abdee\" stroke=\"black\" points=\"1688.5,-469 1583.5,-469 1583.5,-401 1688.5,-401 1688.5,-469\"/>\n",
       "<text text-anchor=\"middle\" x=\"1636\" y=\"-453.8\" font-family=\"Times,serif\" font-size=\"14.00\">X[4] &lt;= 29.95</text>\n",
       "<text text-anchor=\"middle\" x=\"1636\" y=\"-438.8\" font-family=\"Times,serif\" font-size=\"14.00\">gini = 0.373</text>\n",
       "<text text-anchor=\"middle\" x=\"1636\" y=\"-423.8\" font-family=\"Times,serif\" font-size=\"14.00\">samples = 125</text>\n",
       "<text text-anchor=\"middle\" x=\"1636\" y=\"-408.8\" font-family=\"Times,serif\" font-size=\"14.00\">value = [31, 94]</text>\n",
       "</g>\n",
       "<!-- 0&#45;&gt;28 -->\n",
       "<g id=\"edge28\" class=\"edge\">\n",
       "<title>0&#45;&gt;28</title>\n",
       "<path fill=\"none\" stroke=\"black\" d=\"M1356.83,-520C1417.81,-501.65 1511.99,-473.31 1573.81,-454.71\"/>\n",
       "<polygon fill=\"black\" stroke=\"black\" points=\"1574.88,-458.05 1583.45,-451.81 1572.86,-451.34 1574.88,-458.05\"/>\n",
       "<text text-anchor=\"middle\" x=\"1571.61\" y=\"-470.13\" font-family=\"Times,serif\" font-size=\"14.00\">False</text>\n",
       "</g>\n",
       "<!-- 2 -->\n",
       "<g id=\"node3\" class=\"node\">\n",
       "<title>2</title>\n",
       "<polygon fill=\"#e89153\" stroke=\"black\" points=\"513,-365 401,-365 401,-297 513,-297 513,-365\"/>\n",
       "<text text-anchor=\"middle\" x=\"457\" y=\"-349.8\" font-family=\"Times,serif\" font-size=\"14.00\">X[4] &lt;= 30.45</text>\n",
       "<text text-anchor=\"middle\" x=\"457\" y=\"-334.8\" font-family=\"Times,serif\" font-size=\"14.00\">gini = 0.203</text>\n",
       "<text text-anchor=\"middle\" x=\"457\" y=\"-319.8\" font-family=\"Times,serif\" font-size=\"14.00\">samples = 218</text>\n",
       "<text text-anchor=\"middle\" x=\"457\" y=\"-304.8\" font-family=\"Times,serif\" font-size=\"14.00\">value = [193, 25]</text>\n",
       "</g>\n",
       "<!-- 1&#45;&gt;2 -->\n",
       "<g id=\"edge2\" class=\"edge\">\n",
       "<title>1&#45;&gt;2</title>\n",
       "<path fill=\"none\" stroke=\"black\" d=\"M895.42,-421.8C801.79,-402.62 620.83,-365.56 523.24,-345.57\"/>\n",
       "<polygon fill=\"black\" stroke=\"black\" points=\"523.7,-342.09 513.2,-343.51 522.29,-348.95 523.7,-342.09\"/>\n",
       "</g>\n",
       "<!-- 15 -->\n",
       "<g id=\"node16\" class=\"node\">\n",
       "<title>15</title>\n",
       "<polygon fill=\"#f5d0b6\" stroke=\"black\" points=\"1011,-365 899,-365 899,-297 1011,-297 1011,-365\"/>\n",
       "<text text-anchor=\"middle\" x=\"955\" y=\"-349.8\" font-family=\"Times,serif\" font-size=\"14.00\">X[4] &lt;= 26.35</text>\n",
       "<text text-anchor=\"middle\" x=\"955\" y=\"-334.8\" font-family=\"Times,serif\" font-size=\"14.00\">gini = 0.474</text>\n",
       "<text text-anchor=\"middle\" x=\"955\" y=\"-319.8\" font-family=\"Times,serif\" font-size=\"14.00\">samples = 194</text>\n",
       "<text text-anchor=\"middle\" x=\"955\" y=\"-304.8\" font-family=\"Times,serif\" font-size=\"14.00\">value = [119, 75]</text>\n",
       "</g>\n",
       "<!-- 1&#45;&gt;15 -->\n",
       "<g id=\"edge15\" class=\"edge\">\n",
       "<title>1&#45;&gt;15</title>\n",
       "<path fill=\"none\" stroke=\"black\" d=\"M955,-400.88C955,-392.78 955,-383.98 955,-375.47\"/>\n",
       "<polygon fill=\"black\" stroke=\"black\" points=\"958.5,-375.3 955,-365.3 951.5,-375.3 958.5,-375.3\"/>\n",
       "</g>\n",
       "<!-- 3 -->\n",
       "<g id=\"node4\" class=\"node\">\n",
       "<title>3</title>\n",
       "<polygon fill=\"#e6843d\" stroke=\"black\" points=\"327,-261 229,-261 229,-193 327,-193 327,-261\"/>\n",
       "<text text-anchor=\"middle\" x=\"278\" y=\"-245.8\" font-family=\"Times,serif\" font-size=\"14.00\">X[0] &lt;= 7.0</text>\n",
       "<text text-anchor=\"middle\" x=\"278\" y=\"-230.8\" font-family=\"Times,serif\" font-size=\"14.00\">gini = 0.039</text>\n",
       "<text text-anchor=\"middle\" x=\"278\" y=\"-215.8\" font-family=\"Times,serif\" font-size=\"14.00\">samples = 100</text>\n",
       "<text text-anchor=\"middle\" x=\"278\" y=\"-200.8\" font-family=\"Times,serif\" font-size=\"14.00\">value = [98, 2]</text>\n",
       "</g>\n",
       "<!-- 2&#45;&gt;3 -->\n",
       "<g id=\"edge3\" class=\"edge\">\n",
       "<title>2&#45;&gt;3</title>\n",
       "<path fill=\"none\" stroke=\"black\" d=\"M400.85,-298.01C380.22,-286.25 356.83,-272.92 336.03,-261.07\"/>\n",
       "<polygon fill=\"black\" stroke=\"black\" points=\"337.71,-258 327.29,-256.09 334.25,-264.08 337.71,-258\"/>\n",
       "</g>\n",
       "<!-- 8 -->\n",
       "<g id=\"node9\" class=\"node\">\n",
       "<title>8</title>\n",
       "<polygon fill=\"#eba069\" stroke=\"black\" points=\"509.5,-261 404.5,-261 404.5,-193 509.5,-193 509.5,-261\"/>\n",
       "<text text-anchor=\"middle\" x=\"457\" y=\"-245.8\" font-family=\"Times,serif\" font-size=\"14.00\">X[1] &lt;= 127.5</text>\n",
       "<text text-anchor=\"middle\" x=\"457\" y=\"-230.8\" font-family=\"Times,serif\" font-size=\"14.00\">gini = 0.314</text>\n",
       "<text text-anchor=\"middle\" x=\"457\" y=\"-215.8\" font-family=\"Times,serif\" font-size=\"14.00\">samples = 118</text>\n",
       "<text text-anchor=\"middle\" x=\"457\" y=\"-200.8\" font-family=\"Times,serif\" font-size=\"14.00\">value = [95, 23]</text>\n",
       "</g>\n",
       "<!-- 2&#45;&gt;8 -->\n",
       "<g id=\"edge8\" class=\"edge\">\n",
       "<title>2&#45;&gt;8</title>\n",
       "<path fill=\"none\" stroke=\"black\" d=\"M457,-296.88C457,-288.78 457,-279.98 457,-271.47\"/>\n",
       "<polygon fill=\"black\" stroke=\"black\" points=\"460.5,-271.3 457,-261.3 453.5,-271.3 460.5,-271.3\"/>\n",
       "</g>\n",
       "<!-- 4 -->\n",
       "<g id=\"node5\" class=\"node\">\n",
       "<title>4</title>\n",
       "<polygon fill=\"#e5823b\" stroke=\"black\" points=\"214,-157 116,-157 116,-89 214,-89 214,-157\"/>\n",
       "<text text-anchor=\"middle\" x=\"165\" y=\"-141.8\" font-family=\"Times,serif\" font-size=\"14.00\">X[5] &lt;= 0.672</text>\n",
       "<text text-anchor=\"middle\" x=\"165\" y=\"-126.8\" font-family=\"Times,serif\" font-size=\"14.00\">gini = 0.02</text>\n",
       "<text text-anchor=\"middle\" x=\"165\" y=\"-111.8\" font-family=\"Times,serif\" font-size=\"14.00\">samples = 99</text>\n",
       "<text text-anchor=\"middle\" x=\"165\" y=\"-96.8\" font-family=\"Times,serif\" font-size=\"14.00\">value = [98, 1]</text>\n",
       "</g>\n",
       "<!-- 3&#45;&gt;4 -->\n",
       "<g id=\"edge4\" class=\"edge\">\n",
       "<title>3&#45;&gt;4</title>\n",
       "<path fill=\"none\" stroke=\"black\" d=\"M241.31,-192.88C231.15,-183.71 220,-173.65 209.45,-164.12\"/>\n",
       "<polygon fill=\"black\" stroke=\"black\" points=\"211.66,-161.4 201.89,-157.3 206.97,-166.6 211.66,-161.4\"/>\n",
       "</g>\n",
       "<!-- 7 -->\n",
       "<g id=\"node8\" class=\"node\">\n",
       "<title>7</title>\n",
       "<polygon fill=\"#399de5\" stroke=\"black\" points=\"324,-149.5 232,-149.5 232,-96.5 324,-96.5 324,-149.5\"/>\n",
       "<text text-anchor=\"middle\" x=\"278\" y=\"-134.3\" font-family=\"Times,serif\" font-size=\"14.00\">gini = 0.0</text>\n",
       "<text text-anchor=\"middle\" x=\"278\" y=\"-119.3\" font-family=\"Times,serif\" font-size=\"14.00\">samples = 1</text>\n",
       "<text text-anchor=\"middle\" x=\"278\" y=\"-104.3\" font-family=\"Times,serif\" font-size=\"14.00\">value = [0, 1]</text>\n",
       "</g>\n",
       "<!-- 3&#45;&gt;7 -->\n",
       "<g id=\"edge7\" class=\"edge\">\n",
       "<title>3&#45;&gt;7</title>\n",
       "<path fill=\"none\" stroke=\"black\" d=\"M278,-192.88C278,-182.33 278,-170.6 278,-159.85\"/>\n",
       "<polygon fill=\"black\" stroke=\"black\" points=\"281.5,-159.52 278,-149.52 274.5,-159.52 281.5,-159.52\"/>\n",
       "</g>\n",
       "<!-- 5 -->\n",
       "<g id=\"node6\" class=\"node\">\n",
       "<title>5</title>\n",
       "<polygon fill=\"#e58139\" stroke=\"black\" points=\"98,-53 0,-53 0,0 98,0 98,-53\"/>\n",
       "<text text-anchor=\"middle\" x=\"49\" y=\"-37.8\" font-family=\"Times,serif\" font-size=\"14.00\">gini = 0.0</text>\n",
       "<text text-anchor=\"middle\" x=\"49\" y=\"-22.8\" font-family=\"Times,serif\" font-size=\"14.00\">samples = 87</text>\n",
       "<text text-anchor=\"middle\" x=\"49\" y=\"-7.8\" font-family=\"Times,serif\" font-size=\"14.00\">value = [87, 0]</text>\n",
       "</g>\n",
       "<!-- 4&#45;&gt;5 -->\n",
       "<g id=\"edge5\" class=\"edge\">\n",
       "<title>4&#45;&gt;5</title>\n",
       "<path fill=\"none\" stroke=\"black\" d=\"M124.43,-88.95C112.75,-79.43 100.03,-69.07 88.42,-59.62\"/>\n",
       "<polygon fill=\"black\" stroke=\"black\" points=\"90.56,-56.84 80.59,-53.24 86.13,-62.27 90.56,-56.84\"/>\n",
       "</g>\n",
       "<!-- 6 -->\n",
       "<g id=\"node7\" class=\"node\">\n",
       "<title>6</title>\n",
       "<polygon fill=\"#e78c4b\" stroke=\"black\" points=\"214,-53 116,-53 116,0 214,0 214,-53\"/>\n",
       "<text text-anchor=\"middle\" x=\"165\" y=\"-37.8\" font-family=\"Times,serif\" font-size=\"14.00\">gini = 0.153</text>\n",
       "<text text-anchor=\"middle\" x=\"165\" y=\"-22.8\" font-family=\"Times,serif\" font-size=\"14.00\">samples = 12</text>\n",
       "<text text-anchor=\"middle\" x=\"165\" y=\"-7.8\" font-family=\"Times,serif\" font-size=\"14.00\">value = [11, 1]</text>\n",
       "</g>\n",
       "<!-- 4&#45;&gt;6 -->\n",
       "<g id=\"edge6\" class=\"edge\">\n",
       "<title>4&#45;&gt;6</title>\n",
       "<path fill=\"none\" stroke=\"black\" d=\"M165,-88.95C165,-80.72 165,-71.85 165,-63.48\"/>\n",
       "<polygon fill=\"black\" stroke=\"black\" points=\"168.5,-63.24 165,-53.24 161.5,-63.24 168.5,-63.24\"/>\n",
       "</g>\n",
       "<!-- 9 -->\n",
       "<g id=\"node10\" class=\"node\">\n",
       "<title>9</title>\n",
       "<polygon fill=\"#e9965a\" stroke=\"black\" points=\"447.5,-157 342.5,-157 342.5,-89 447.5,-89 447.5,-157\"/>\n",
       "<text text-anchor=\"middle\" x=\"395\" y=\"-141.8\" font-family=\"Times,serif\" font-size=\"14.00\">X[2] &lt;= 53.0</text>\n",
       "<text text-anchor=\"middle\" x=\"395\" y=\"-126.8\" font-family=\"Times,serif\" font-size=\"14.00\">gini = 0.245</text>\n",
       "<text text-anchor=\"middle\" x=\"395\" y=\"-111.8\" font-family=\"Times,serif\" font-size=\"14.00\">samples = 98</text>\n",
       "<text text-anchor=\"middle\" x=\"395\" y=\"-96.8\" font-family=\"Times,serif\" font-size=\"14.00\">value = [84, 14]</text>\n",
       "</g>\n",
       "<!-- 8&#45;&gt;9 -->\n",
       "<g id=\"edge9\" class=\"edge\">\n",
       "<title>8&#45;&gt;9</title>\n",
       "<path fill=\"none\" stroke=\"black\" d=\"M436.87,-192.88C431.67,-184.33 426.01,-175.01 420.57,-166.07\"/>\n",
       "<polygon fill=\"black\" stroke=\"black\" points=\"423.43,-164.03 415.24,-157.3 417.44,-167.66 423.43,-164.03\"/>\n",
       "</g>\n",
       "<!-- 12 -->\n",
       "<g id=\"node13\" class=\"node\">\n",
       "<title>12</title>\n",
       "<polygon fill=\"#fae8db\" stroke=\"black\" points=\"564,-157 466,-157 466,-89 564,-89 564,-157\"/>\n",
       "<text text-anchor=\"middle\" x=\"515\" y=\"-141.8\" font-family=\"Times,serif\" font-size=\"14.00\">X[2] &lt;= 73.0</text>\n",
       "<text text-anchor=\"middle\" x=\"515\" y=\"-126.8\" font-family=\"Times,serif\" font-size=\"14.00\">gini = 0.495</text>\n",
       "<text text-anchor=\"middle\" x=\"515\" y=\"-111.8\" font-family=\"Times,serif\" font-size=\"14.00\">samples = 20</text>\n",
       "<text text-anchor=\"middle\" x=\"515\" y=\"-96.8\" font-family=\"Times,serif\" font-size=\"14.00\">value = [11, 9]</text>\n",
       "</g>\n",
       "<!-- 8&#45;&gt;12 -->\n",
       "<g id=\"edge12\" class=\"edge\">\n",
       "<title>8&#45;&gt;12</title>\n",
       "<path fill=\"none\" stroke=\"black\" d=\"M475.83,-192.88C480.69,-184.33 485.99,-175.01 491.08,-166.07\"/>\n",
       "<polygon fill=\"black\" stroke=\"black\" points=\"494.16,-167.72 496.07,-157.3 488.08,-164.26 494.16,-167.72\"/>\n",
       "</g>\n",
       "<!-- 10 -->\n",
       "<g id=\"node11\" class=\"node\">\n",
       "<title>10</title>\n",
       "<polygon fill=\"#ffffff\" stroke=\"black\" points=\"324,-53 232,-53 232,0 324,0 324,-53\"/>\n",
       "<text text-anchor=\"middle\" x=\"278\" y=\"-37.8\" font-family=\"Times,serif\" font-size=\"14.00\">gini = 0.5</text>\n",
       "<text text-anchor=\"middle\" x=\"278\" y=\"-22.8\" font-family=\"Times,serif\" font-size=\"14.00\">samples = 8</text>\n",
       "<text text-anchor=\"middle\" x=\"278\" y=\"-7.8\" font-family=\"Times,serif\" font-size=\"14.00\">value = [4, 4]</text>\n",
       "</g>\n",
       "<!-- 9&#45;&gt;10 -->\n",
       "<g id=\"edge10\" class=\"edge\">\n",
       "<title>9&#45;&gt;10</title>\n",
       "<path fill=\"none\" stroke=\"black\" d=\"M354.08,-88.95C342.3,-79.43 329.47,-69.07 317.76,-59.62\"/>\n",
       "<polygon fill=\"black\" stroke=\"black\" points=\"319.84,-56.8 309.86,-53.24 315.44,-62.24 319.84,-56.8\"/>\n",
       "</g>\n",
       "<!-- 11 -->\n",
       "<g id=\"node12\" class=\"node\">\n",
       "<title>11</title>\n",
       "<polygon fill=\"#e89152\" stroke=\"black\" points=\"447.5,-53 342.5,-53 342.5,0 447.5,0 447.5,-53\"/>\n",
       "<text text-anchor=\"middle\" x=\"395\" y=\"-37.8\" font-family=\"Times,serif\" font-size=\"14.00\">gini = 0.198</text>\n",
       "<text text-anchor=\"middle\" x=\"395\" y=\"-22.8\" font-family=\"Times,serif\" font-size=\"14.00\">samples = 90</text>\n",
       "<text text-anchor=\"middle\" x=\"395\" y=\"-7.8\" font-family=\"Times,serif\" font-size=\"14.00\">value = [80, 10]</text>\n",
       "</g>\n",
       "<!-- 9&#45;&gt;11 -->\n",
       "<g id=\"edge11\" class=\"edge\">\n",
       "<title>9&#45;&gt;11</title>\n",
       "<path fill=\"none\" stroke=\"black\" d=\"M395,-88.95C395,-80.72 395,-71.85 395,-63.48\"/>\n",
       "<polygon fill=\"black\" stroke=\"black\" points=\"398.5,-63.24 395,-53.24 391.5,-63.24 398.5,-63.24\"/>\n",
       "</g>\n",
       "<!-- 13 -->\n",
       "<g id=\"node14\" class=\"node\">\n",
       "<title>13</title>\n",
       "<polygon fill=\"#8ec7f0\" stroke=\"black\" points=\"558,-53 466,-53 466,0 558,0 558,-53\"/>\n",
       "<text text-anchor=\"middle\" x=\"512\" y=\"-37.8\" font-family=\"Times,serif\" font-size=\"14.00\">gini = 0.42</text>\n",
       "<text text-anchor=\"middle\" x=\"512\" y=\"-22.8\" font-family=\"Times,serif\" font-size=\"14.00\">samples = 10</text>\n",
       "<text text-anchor=\"middle\" x=\"512\" y=\"-7.8\" font-family=\"Times,serif\" font-size=\"14.00\">value = [3, 7]</text>\n",
       "</g>\n",
       "<!-- 12&#45;&gt;13 -->\n",
       "<g id=\"edge13\" class=\"edge\">\n",
       "<title>12&#45;&gt;13</title>\n",
       "<path fill=\"none\" stroke=\"black\" d=\"M513.95,-88.95C513.69,-80.72 513.41,-71.85 513.14,-63.48\"/>\n",
       "<polygon fill=\"black\" stroke=\"black\" points=\"516.63,-63.12 512.82,-53.24 509.64,-63.34 516.63,-63.12\"/>\n",
       "</g>\n",
       "<!-- 14 -->\n",
       "<g id=\"node15\" class=\"node\">\n",
       "<title>14</title>\n",
       "<polygon fill=\"#eca06a\" stroke=\"black\" points=\"668,-53 576,-53 576,0 668,0 668,-53\"/>\n",
       "<text text-anchor=\"middle\" x=\"622\" y=\"-37.8\" font-family=\"Times,serif\" font-size=\"14.00\">gini = 0.32</text>\n",
       "<text text-anchor=\"middle\" x=\"622\" y=\"-22.8\" font-family=\"Times,serif\" font-size=\"14.00\">samples = 10</text>\n",
       "<text text-anchor=\"middle\" x=\"622\" y=\"-7.8\" font-family=\"Times,serif\" font-size=\"14.00\">value = [8, 2]</text>\n",
       "</g>\n",
       "<!-- 12&#45;&gt;14 -->\n",
       "<g id=\"edge14\" class=\"edge\">\n",
       "<title>12&#45;&gt;14</title>\n",
       "<path fill=\"none\" stroke=\"black\" d=\"M552.42,-88.95C563.09,-79.53 574.7,-69.27 585.32,-59.89\"/>\n",
       "<polygon fill=\"black\" stroke=\"black\" points=\"587.68,-62.48 592.86,-53.24 583.05,-57.23 587.68,-62.48\"/>\n",
       "</g>\n",
       "<!-- 16 -->\n",
       "<g id=\"node17\" class=\"node\">\n",
       "<title>16</title>\n",
       "<polygon fill=\"#e6853f\" stroke=\"black\" points=\"891,-261 793,-261 793,-193 891,-193 891,-261\"/>\n",
       "<text text-anchor=\"middle\" x=\"842\" y=\"-245.8\" font-family=\"Times,serif\" font-size=\"14.00\">X[1] &lt;= 131.5</text>\n",
       "<text text-anchor=\"middle\" x=\"842\" y=\"-230.8\" font-family=\"Times,serif\" font-size=\"14.00\">gini = 0.061</text>\n",
       "<text text-anchor=\"middle\" x=\"842\" y=\"-215.8\" font-family=\"Times,serif\" font-size=\"14.00\">samples = 32</text>\n",
       "<text text-anchor=\"middle\" x=\"842\" y=\"-200.8\" font-family=\"Times,serif\" font-size=\"14.00\">value = [31, 1]</text>\n",
       "</g>\n",
       "<!-- 15&#45;&gt;16 -->\n",
       "<g id=\"edge16\" class=\"edge\">\n",
       "<title>15&#45;&gt;16</title>\n",
       "<path fill=\"none\" stroke=\"black\" d=\"M918.31,-296.88C908.15,-287.71 897,-277.65 886.45,-268.12\"/>\n",
       "<polygon fill=\"black\" stroke=\"black\" points=\"888.66,-265.4 878.89,-261.3 883.97,-270.6 888.66,-265.4\"/>\n",
       "</g>\n",
       "<!-- 21 -->\n",
       "<g id=\"node22\" class=\"node\">\n",
       "<title>21</title>\n",
       "<polygon fill=\"#fbebe0\" stroke=\"black\" points=\"1068.5,-261 963.5,-261 963.5,-193 1068.5,-193 1068.5,-261\"/>\n",
       "<text text-anchor=\"middle\" x=\"1016\" y=\"-245.8\" font-family=\"Times,serif\" font-size=\"14.00\">X[1] &lt;= 107.5</text>\n",
       "<text text-anchor=\"middle\" x=\"1016\" y=\"-230.8\" font-family=\"Times,serif\" font-size=\"14.00\">gini = 0.496</text>\n",
       "<text text-anchor=\"middle\" x=\"1016\" y=\"-215.8\" font-family=\"Times,serif\" font-size=\"14.00\">samples = 162</text>\n",
       "<text text-anchor=\"middle\" x=\"1016\" y=\"-200.8\" font-family=\"Times,serif\" font-size=\"14.00\">value = [88, 74]</text>\n",
       "</g>\n",
       "<!-- 15&#45;&gt;21 -->\n",
       "<g id=\"edge21\" class=\"edge\">\n",
       "<title>15&#45;&gt;21</title>\n",
       "<path fill=\"none\" stroke=\"black\" d=\"M974.8,-296.88C979.92,-288.33 985.49,-279.01 990.84,-270.07\"/>\n",
       "<polygon fill=\"black\" stroke=\"black\" points=\"993.96,-271.68 996.09,-261.3 987.95,-268.09 993.96,-271.68\"/>\n",
       "</g>\n",
       "<!-- 17 -->\n",
       "<g id=\"node18\" class=\"node\">\n",
       "<title>17</title>\n",
       "<polygon fill=\"#e58139\" stroke=\"black\" points=\"778,-149.5 680,-149.5 680,-96.5 778,-96.5 778,-149.5\"/>\n",
       "<text text-anchor=\"middle\" x=\"729\" y=\"-134.3\" font-family=\"Times,serif\" font-size=\"14.00\">gini = 0.0</text>\n",
       "<text text-anchor=\"middle\" x=\"729\" y=\"-119.3\" font-family=\"Times,serif\" font-size=\"14.00\">samples = 28</text>\n",
       "<text text-anchor=\"middle\" x=\"729\" y=\"-104.3\" font-family=\"Times,serif\" font-size=\"14.00\">value = [28, 0]</text>\n",
       "</g>\n",
       "<!-- 16&#45;&gt;17 -->\n",
       "<g id=\"edge17\" class=\"edge\">\n",
       "<title>16&#45;&gt;17</title>\n",
       "<path fill=\"none\" stroke=\"black\" d=\"M805.31,-192.88C792.4,-181.23 777.9,-168.14 765.04,-156.53\"/>\n",
       "<polygon fill=\"black\" stroke=\"black\" points=\"767.04,-153.62 757.27,-149.52 762.35,-158.82 767.04,-153.62\"/>\n",
       "</g>\n",
       "<!-- 18 -->\n",
       "<g id=\"node19\" class=\"node\">\n",
       "<title>18</title>\n",
       "<polygon fill=\"#eeab7b\" stroke=\"black\" points=\"888,-157 796,-157 796,-89 888,-89 888,-157\"/>\n",
       "<text text-anchor=\"middle\" x=\"842\" y=\"-141.8\" font-family=\"Times,serif\" font-size=\"14.00\">X[4] &lt;= 24.0</text>\n",
       "<text text-anchor=\"middle\" x=\"842\" y=\"-126.8\" font-family=\"Times,serif\" font-size=\"14.00\">gini = 0.375</text>\n",
       "<text text-anchor=\"middle\" x=\"842\" y=\"-111.8\" font-family=\"Times,serif\" font-size=\"14.00\">samples = 4</text>\n",
       "<text text-anchor=\"middle\" x=\"842\" y=\"-96.8\" font-family=\"Times,serif\" font-size=\"14.00\">value = [3, 1]</text>\n",
       "</g>\n",
       "<!-- 16&#45;&gt;18 -->\n",
       "<g id=\"edge18\" class=\"edge\">\n",
       "<title>16&#45;&gt;18</title>\n",
       "<path fill=\"none\" stroke=\"black\" d=\"M842,-192.88C842,-184.78 842,-175.98 842,-167.47\"/>\n",
       "<polygon fill=\"black\" stroke=\"black\" points=\"845.5,-167.3 842,-157.3 838.5,-167.3 845.5,-167.3\"/>\n",
       "</g>\n",
       "<!-- 19 -->\n",
       "<g id=\"node20\" class=\"node\">\n",
       "<title>19</title>\n",
       "<polygon fill=\"#399de5\" stroke=\"black\" points=\"778,-53 686,-53 686,0 778,0 778,-53\"/>\n",
       "<text text-anchor=\"middle\" x=\"732\" y=\"-37.8\" font-family=\"Times,serif\" font-size=\"14.00\">gini = 0.0</text>\n",
       "<text text-anchor=\"middle\" x=\"732\" y=\"-22.8\" font-family=\"Times,serif\" font-size=\"14.00\">samples = 1</text>\n",
       "<text text-anchor=\"middle\" x=\"732\" y=\"-7.8\" font-family=\"Times,serif\" font-size=\"14.00\">value = [0, 1]</text>\n",
       "</g>\n",
       "<!-- 18&#45;&gt;19 -->\n",
       "<g id=\"edge19\" class=\"edge\">\n",
       "<title>18&#45;&gt;19</title>\n",
       "<path fill=\"none\" stroke=\"black\" d=\"M803.53,-88.95C792.56,-79.53 780.62,-69.27 769.7,-59.89\"/>\n",
       "<polygon fill=\"black\" stroke=\"black\" points=\"771.82,-57.1 761.96,-53.24 767.26,-62.41 771.82,-57.1\"/>\n",
       "</g>\n",
       "<!-- 20 -->\n",
       "<g id=\"node21\" class=\"node\">\n",
       "<title>20</title>\n",
       "<polygon fill=\"#e58139\" stroke=\"black\" points=\"888,-53 796,-53 796,0 888,0 888,-53\"/>\n",
       "<text text-anchor=\"middle\" x=\"842\" y=\"-37.8\" font-family=\"Times,serif\" font-size=\"14.00\">gini = 0.0</text>\n",
       "<text text-anchor=\"middle\" x=\"842\" y=\"-22.8\" font-family=\"Times,serif\" font-size=\"14.00\">samples = 3</text>\n",
       "<text text-anchor=\"middle\" x=\"842\" y=\"-7.8\" font-family=\"Times,serif\" font-size=\"14.00\">value = [3, 0]</text>\n",
       "</g>\n",
       "<!-- 18&#45;&gt;20 -->\n",
       "<g id=\"edge20\" class=\"edge\">\n",
       "<title>18&#45;&gt;20</title>\n",
       "<path fill=\"none\" stroke=\"black\" d=\"M842,-88.95C842,-80.72 842,-71.85 842,-63.48\"/>\n",
       "<polygon fill=\"black\" stroke=\"black\" points=\"845.5,-63.24 842,-53.24 838.5,-63.24 845.5,-63.24\"/>\n",
       "</g>\n",
       "<!-- 22 -->\n",
       "<g id=\"node23\" class=\"node\">\n",
       "<title>22</title>\n",
       "<polygon fill=\"#eeae80\" stroke=\"black\" points=\"1068.5,-157 963.5,-157 963.5,-89 1068.5,-89 1068.5,-157\"/>\n",
       "<text text-anchor=\"middle\" x=\"1016\" y=\"-141.8\" font-family=\"Times,serif\" font-size=\"14.00\">X[4] &lt;= 27.95</text>\n",
       "<text text-anchor=\"middle\" x=\"1016\" y=\"-126.8\" font-family=\"Times,serif\" font-size=\"14.00\">gini = 0.389</text>\n",
       "<text text-anchor=\"middle\" x=\"1016\" y=\"-111.8\" font-family=\"Times,serif\" font-size=\"14.00\">samples = 53</text>\n",
       "<text text-anchor=\"middle\" x=\"1016\" y=\"-96.8\" font-family=\"Times,serif\" font-size=\"14.00\">value = [39, 14]</text>\n",
       "</g>\n",
       "<!-- 21&#45;&gt;22 -->\n",
       "<g id=\"edge22\" class=\"edge\">\n",
       "<title>21&#45;&gt;22</title>\n",
       "<path fill=\"none\" stroke=\"black\" d=\"M1016,-192.88C1016,-184.78 1016,-175.98 1016,-167.47\"/>\n",
       "<polygon fill=\"black\" stroke=\"black\" points=\"1019.5,-167.3 1016,-157.3 1012.5,-167.3 1019.5,-167.3\"/>\n",
       "</g>\n",
       "<!-- 25 -->\n",
       "<g id=\"node26\" class=\"node\">\n",
       "<title>25</title>\n",
       "<polygon fill=\"#dbedfa\" stroke=\"black\" points=\"1244.5,-157 1139.5,-157 1139.5,-89 1244.5,-89 1244.5,-157\"/>\n",
       "<text text-anchor=\"middle\" x=\"1192\" y=\"-141.8\" font-family=\"Times,serif\" font-size=\"14.00\">X[6] &lt;= 58.5</text>\n",
       "<text text-anchor=\"middle\" x=\"1192\" y=\"-126.8\" font-family=\"Times,serif\" font-size=\"14.00\">gini = 0.495</text>\n",
       "<text text-anchor=\"middle\" x=\"1192\" y=\"-111.8\" font-family=\"Times,serif\" font-size=\"14.00\">samples = 109</text>\n",
       "<text text-anchor=\"middle\" x=\"1192\" y=\"-96.8\" font-family=\"Times,serif\" font-size=\"14.00\">value = [49, 60]</text>\n",
       "</g>\n",
       "<!-- 21&#45;&gt;25 -->\n",
       "<g id=\"edge25\" class=\"edge\">\n",
       "<title>21&#45;&gt;25</title>\n",
       "<path fill=\"none\" stroke=\"black\" d=\"M1068.81,-195.4C1088.21,-184.15 1110.35,-171.32 1130.45,-159.67\"/>\n",
       "<polygon fill=\"black\" stroke=\"black\" points=\"1132.33,-162.62 1139.23,-154.58 1128.82,-156.57 1132.33,-162.62\"/>\n",
       "</g>\n",
       "<!-- 23 -->\n",
       "<g id=\"node24\" class=\"node\">\n",
       "<title>23</title>\n",
       "<polygon fill=\"#399de5\" stroke=\"black\" points=\"998,-53 906,-53 906,0 998,0 998,-53\"/>\n",
       "<text text-anchor=\"middle\" x=\"952\" y=\"-37.8\" font-family=\"Times,serif\" font-size=\"14.00\">gini = 0.0</text>\n",
       "<text text-anchor=\"middle\" x=\"952\" y=\"-22.8\" font-family=\"Times,serif\" font-size=\"14.00\">samples = 3</text>\n",
       "<text text-anchor=\"middle\" x=\"952\" y=\"-7.8\" font-family=\"Times,serif\" font-size=\"14.00\">value = [0, 3]</text>\n",
       "</g>\n",
       "<!-- 22&#45;&gt;23 -->\n",
       "<g id=\"edge23\" class=\"edge\">\n",
       "<title>22&#45;&gt;23</title>\n",
       "<path fill=\"none\" stroke=\"black\" d=\"M993.62,-88.95C987.61,-80.07 981.1,-70.46 975.05,-61.54\"/>\n",
       "<polygon fill=\"black\" stroke=\"black\" points=\"977.94,-59.55 969.43,-53.24 972.14,-63.48 977.94,-59.55\"/>\n",
       "</g>\n",
       "<!-- 24 -->\n",
       "<g id=\"node25\" class=\"node\">\n",
       "<title>24</title>\n",
       "<polygon fill=\"#eca571\" stroke=\"black\" points=\"1121.5,-53 1016.5,-53 1016.5,0 1121.5,0 1121.5,-53\"/>\n",
       "<text text-anchor=\"middle\" x=\"1069\" y=\"-37.8\" font-family=\"Times,serif\" font-size=\"14.00\">gini = 0.343</text>\n",
       "<text text-anchor=\"middle\" x=\"1069\" y=\"-22.8\" font-family=\"Times,serif\" font-size=\"14.00\">samples = 50</text>\n",
       "<text text-anchor=\"middle\" x=\"1069\" y=\"-7.8\" font-family=\"Times,serif\" font-size=\"14.00\">value = [39, 11]</text>\n",
       "</g>\n",
       "<!-- 22&#45;&gt;24 -->\n",
       "<g id=\"edge24\" class=\"edge\">\n",
       "<title>22&#45;&gt;24</title>\n",
       "<path fill=\"none\" stroke=\"black\" d=\"M1034.54,-88.95C1039.41,-80.26 1044.68,-70.86 1049.6,-62.09\"/>\n",
       "<polygon fill=\"black\" stroke=\"black\" points=\"1052.73,-63.67 1054.57,-53.24 1046.62,-60.25 1052.73,-63.67\"/>\n",
       "</g>\n",
       "<!-- 26 -->\n",
       "<g id=\"node27\" class=\"node\">\n",
       "<title>26</title>\n",
       "<polygon fill=\"#c7e3f8\" stroke=\"black\" points=\"1244.5,-53 1139.5,-53 1139.5,0 1244.5,0 1244.5,-53\"/>\n",
       "<text text-anchor=\"middle\" x=\"1192\" y=\"-37.8\" font-family=\"Times,serif\" font-size=\"14.00\">gini = 0.486</text>\n",
       "<text text-anchor=\"middle\" x=\"1192\" y=\"-22.8\" font-family=\"Times,serif\" font-size=\"14.00\">samples = 103</text>\n",
       "<text text-anchor=\"middle\" x=\"1192\" y=\"-7.8\" font-family=\"Times,serif\" font-size=\"14.00\">value = [43, 60]</text>\n",
       "</g>\n",
       "<!-- 25&#45;&gt;26 -->\n",
       "<g id=\"edge26\" class=\"edge\">\n",
       "<title>25&#45;&gt;26</title>\n",
       "<path fill=\"none\" stroke=\"black\" d=\"M1192,-88.95C1192,-80.72 1192,-71.85 1192,-63.48\"/>\n",
       "<polygon fill=\"black\" stroke=\"black\" points=\"1195.5,-63.24 1192,-53.24 1188.5,-63.24 1195.5,-63.24\"/>\n",
       "</g>\n",
       "<!-- 27 -->\n",
       "<g id=\"node28\" class=\"node\">\n",
       "<title>27</title>\n",
       "<polygon fill=\"#e58139\" stroke=\"black\" points=\"1355,-53 1263,-53 1263,0 1355,0 1355,-53\"/>\n",
       "<text text-anchor=\"middle\" x=\"1309\" y=\"-37.8\" font-family=\"Times,serif\" font-size=\"14.00\">gini = 0.0</text>\n",
       "<text text-anchor=\"middle\" x=\"1309\" y=\"-22.8\" font-family=\"Times,serif\" font-size=\"14.00\">samples = 6</text>\n",
       "<text text-anchor=\"middle\" x=\"1309\" y=\"-7.8\" font-family=\"Times,serif\" font-size=\"14.00\">value = [6, 0]</text>\n",
       "</g>\n",
       "<!-- 25&#45;&gt;27 -->\n",
       "<g id=\"edge27\" class=\"edge\">\n",
       "<title>25&#45;&gt;27</title>\n",
       "<path fill=\"none\" stroke=\"black\" d=\"M1232.92,-88.95C1244.7,-79.43 1257.53,-69.07 1269.24,-59.62\"/>\n",
       "<polygon fill=\"black\" stroke=\"black\" points=\"1271.56,-62.24 1277.14,-53.24 1267.16,-56.8 1271.56,-62.24\"/>\n",
       "</g>\n",
       "<!-- 29 -->\n",
       "<g id=\"node30\" class=\"node\">\n",
       "<title>29</title>\n",
       "<polygon fill=\"#fdf5f0\" stroke=\"black\" points=\"1688.5,-365 1583.5,-365 1583.5,-297 1688.5,-297 1688.5,-365\"/>\n",
       "<text text-anchor=\"middle\" x=\"1636\" y=\"-349.8\" font-family=\"Times,serif\" font-size=\"14.00\">X[6] &lt;= 56.0</text>\n",
       "<text text-anchor=\"middle\" x=\"1636\" y=\"-334.8\" font-family=\"Times,serif\" font-size=\"14.00\">gini = 0.499</text>\n",
       "<text text-anchor=\"middle\" x=\"1636\" y=\"-319.8\" font-family=\"Times,serif\" font-size=\"14.00\">samples = 25</text>\n",
       "<text text-anchor=\"middle\" x=\"1636\" y=\"-304.8\" font-family=\"Times,serif\" font-size=\"14.00\">value = [13, 12]</text>\n",
       "</g>\n",
       "<!-- 28&#45;&gt;29 -->\n",
       "<g id=\"edge29\" class=\"edge\">\n",
       "<title>28&#45;&gt;29</title>\n",
       "<path fill=\"none\" stroke=\"black\" d=\"M1636,-400.88C1636,-392.78 1636,-383.98 1636,-375.47\"/>\n",
       "<polygon fill=\"black\" stroke=\"black\" points=\"1639.5,-375.3 1636,-365.3 1632.5,-375.3 1639.5,-375.3\"/>\n",
       "</g>\n",
       "<!-- 38 -->\n",
       "<g id=\"node39\" class=\"node\">\n",
       "<title>38</title>\n",
       "<polygon fill=\"#64b3eb\" stroke=\"black\" points=\"1967.5,-365 1862.5,-365 1862.5,-297 1967.5,-297 1967.5,-365\"/>\n",
       "<text text-anchor=\"middle\" x=\"1915\" y=\"-349.8\" font-family=\"Times,serif\" font-size=\"14.00\">X[1] &lt;= 157.5</text>\n",
       "<text text-anchor=\"middle\" x=\"1915\" y=\"-334.8\" font-family=\"Times,serif\" font-size=\"14.00\">gini = 0.295</text>\n",
       "<text text-anchor=\"middle\" x=\"1915\" y=\"-319.8\" font-family=\"Times,serif\" font-size=\"14.00\">samples = 100</text>\n",
       "<text text-anchor=\"middle\" x=\"1915\" y=\"-304.8\" font-family=\"Times,serif\" font-size=\"14.00\">value = [18, 82]</text>\n",
       "</g>\n",
       "<!-- 28&#45;&gt;38 -->\n",
       "<g id=\"edge38\" class=\"edge\">\n",
       "<title>28&#45;&gt;38</title>\n",
       "<path fill=\"none\" stroke=\"black\" d=\"M1688.81,-414.69C1735.46,-397.64 1803.54,-372.75 1852.82,-354.73\"/>\n",
       "<polygon fill=\"black\" stroke=\"black\" points=\"1854.22,-357.95 1862.41,-351.23 1851.82,-351.37 1854.22,-357.95\"/>\n",
       "</g>\n",
       "<!-- 30 -->\n",
       "<g id=\"node31\" class=\"node\">\n",
       "<title>30</title>\n",
       "<polygon fill=\"#cee6f8\" stroke=\"black\" points=\"1629,-261 1531,-261 1531,-193 1629,-193 1629,-261\"/>\n",
       "<text text-anchor=\"middle\" x=\"1580\" y=\"-245.8\" font-family=\"Times,serif\" font-size=\"14.00\">X[2] &lt;= 74.5</text>\n",
       "<text text-anchor=\"middle\" x=\"1580\" y=\"-230.8\" font-family=\"Times,serif\" font-size=\"14.00\">gini = 0.49</text>\n",
       "<text text-anchor=\"middle\" x=\"1580\" y=\"-215.8\" font-family=\"Times,serif\" font-size=\"14.00\">samples = 21</text>\n",
       "<text text-anchor=\"middle\" x=\"1580\" y=\"-200.8\" font-family=\"Times,serif\" font-size=\"14.00\">value = [9, 12]</text>\n",
       "</g>\n",
       "<!-- 29&#45;&gt;30 -->\n",
       "<g id=\"edge30\" class=\"edge\">\n",
       "<title>29&#45;&gt;30</title>\n",
       "<path fill=\"none\" stroke=\"black\" d=\"M1617.82,-296.88C1613.12,-288.33 1608.01,-279.01 1603.1,-270.07\"/>\n",
       "<polygon fill=\"black\" stroke=\"black\" points=\"1606.16,-268.38 1598.28,-261.3 1600.03,-271.75 1606.16,-268.38\"/>\n",
       "</g>\n",
       "<!-- 37 -->\n",
       "<g id=\"node38\" class=\"node\">\n",
       "<title>37</title>\n",
       "<polygon fill=\"#e58139\" stroke=\"black\" points=\"1739,-253.5 1647,-253.5 1647,-200.5 1739,-200.5 1739,-253.5\"/>\n",
       "<text text-anchor=\"middle\" x=\"1693\" y=\"-238.3\" font-family=\"Times,serif\" font-size=\"14.00\">gini = 0.0</text>\n",
       "<text text-anchor=\"middle\" x=\"1693\" y=\"-223.3\" font-family=\"Times,serif\" font-size=\"14.00\">samples = 4</text>\n",
       "<text text-anchor=\"middle\" x=\"1693\" y=\"-208.3\" font-family=\"Times,serif\" font-size=\"14.00\">value = [4, 0]</text>\n",
       "</g>\n",
       "<!-- 29&#45;&gt;37 -->\n",
       "<g id=\"edge37\" class=\"edge\">\n",
       "<title>29&#45;&gt;37</title>\n",
       "<path fill=\"none\" stroke=\"black\" d=\"M1654.51,-296.88C1660.65,-285.89 1667.51,-273.62 1673.71,-262.52\"/>\n",
       "<polygon fill=\"black\" stroke=\"black\" points=\"1676.92,-263.96 1678.74,-253.52 1670.81,-260.54 1676.92,-263.96\"/>\n",
       "</g>\n",
       "<!-- 31 -->\n",
       "<g id=\"node32\" class=\"node\">\n",
       "<title>31</title>\n",
       "<polygon fill=\"#7bbeee\" stroke=\"black\" points=\"1575.5,-157 1478.5,-157 1478.5,-89 1575.5,-89 1575.5,-157\"/>\n",
       "<text text-anchor=\"middle\" x=\"1527\" y=\"-141.8\" font-family=\"Times,serif\" font-size=\"14.00\">X[1] &lt;= 160.5</text>\n",
       "<text text-anchor=\"middle\" x=\"1527\" y=\"-126.8\" font-family=\"Times,serif\" font-size=\"14.00\">gini = 0.375</text>\n",
       "<text text-anchor=\"middle\" x=\"1527\" y=\"-111.8\" font-family=\"Times,serif\" font-size=\"14.00\">samples = 12</text>\n",
       "<text text-anchor=\"middle\" x=\"1527\" y=\"-96.8\" font-family=\"Times,serif\" font-size=\"14.00\">value = [3, 9]</text>\n",
       "</g>\n",
       "<!-- 30&#45;&gt;31 -->\n",
       "<g id=\"edge31\" class=\"edge\">\n",
       "<title>30&#45;&gt;31</title>\n",
       "<path fill=\"none\" stroke=\"black\" d=\"M1562.79,-192.88C1558.4,-184.42 1553.61,-175.21 1549.01,-166.35\"/>\n",
       "<polygon fill=\"black\" stroke=\"black\" points=\"1552.02,-164.56 1544.3,-157.3 1545.81,-167.79 1552.02,-164.56\"/>\n",
       "</g>\n",
       "<!-- 34 -->\n",
       "<g id=\"node35\" class=\"node\">\n",
       "<title>34</title>\n",
       "<polygon fill=\"#f2c09c\" stroke=\"black\" points=\"1686,-157 1594,-157 1594,-89 1686,-89 1686,-157\"/>\n",
       "<text text-anchor=\"middle\" x=\"1640\" y=\"-141.8\" font-family=\"Times,serif\" font-size=\"14.00\">X[6] &lt;= 40.0</text>\n",
       "<text text-anchor=\"middle\" x=\"1640\" y=\"-126.8\" font-family=\"Times,serif\" font-size=\"14.00\">gini = 0.444</text>\n",
       "<text text-anchor=\"middle\" x=\"1640\" y=\"-111.8\" font-family=\"Times,serif\" font-size=\"14.00\">samples = 9</text>\n",
       "<text text-anchor=\"middle\" x=\"1640\" y=\"-96.8\" font-family=\"Times,serif\" font-size=\"14.00\">value = [6, 3]</text>\n",
       "</g>\n",
       "<!-- 30&#45;&gt;34 -->\n",
       "<g id=\"edge34\" class=\"edge\">\n",
       "<title>30&#45;&gt;34</title>\n",
       "<path fill=\"none\" stroke=\"black\" d=\"M1599.48,-192.88C1604.51,-184.33 1609.99,-175.01 1615.25,-166.07\"/>\n",
       "<polygon fill=\"black\" stroke=\"black\" points=\"1618.36,-167.69 1620.41,-157.3 1612.33,-164.14 1618.36,-167.69\"/>\n",
       "</g>\n",
       "<!-- 32 -->\n",
       "<g id=\"node33\" class=\"node\">\n",
       "<title>32</title>\n",
       "<polygon fill=\"#ffffff\" stroke=\"black\" points=\"1465,-53 1373,-53 1373,0 1465,0 1465,-53\"/>\n",
       "<text text-anchor=\"middle\" x=\"1419\" y=\"-37.8\" font-family=\"Times,serif\" font-size=\"14.00\">gini = 0.5</text>\n",
       "<text text-anchor=\"middle\" x=\"1419\" y=\"-22.8\" font-family=\"Times,serif\" font-size=\"14.00\">samples = 6</text>\n",
       "<text text-anchor=\"middle\" x=\"1419\" y=\"-7.8\" font-family=\"Times,serif\" font-size=\"14.00\">value = [3, 3]</text>\n",
       "</g>\n",
       "<!-- 31&#45;&gt;32 -->\n",
       "<g id=\"edge32\" class=\"edge\">\n",
       "<title>31&#45;&gt;32</title>\n",
       "<path fill=\"none\" stroke=\"black\" d=\"M1489.23,-88.95C1478.46,-79.53 1466.74,-69.27 1456.02,-59.89\"/>\n",
       "<polygon fill=\"black\" stroke=\"black\" points=\"1458.24,-57.19 1448.41,-53.24 1453.63,-62.46 1458.24,-57.19\"/>\n",
       "</g>\n",
       "<!-- 33 -->\n",
       "<g id=\"node34\" class=\"node\">\n",
       "<title>33</title>\n",
       "<polygon fill=\"#399de5\" stroke=\"black\" points=\"1575,-53 1483,-53 1483,0 1575,0 1575,-53\"/>\n",
       "<text text-anchor=\"middle\" x=\"1529\" y=\"-37.8\" font-family=\"Times,serif\" font-size=\"14.00\">gini = 0.0</text>\n",
       "<text text-anchor=\"middle\" x=\"1529\" y=\"-22.8\" font-family=\"Times,serif\" font-size=\"14.00\">samples = 6</text>\n",
       "<text text-anchor=\"middle\" x=\"1529\" y=\"-7.8\" font-family=\"Times,serif\" font-size=\"14.00\">value = [0, 6]</text>\n",
       "</g>\n",
       "<!-- 31&#45;&gt;33 -->\n",
       "<g id=\"edge33\" class=\"edge\">\n",
       "<title>31&#45;&gt;33</title>\n",
       "<path fill=\"none\" stroke=\"black\" d=\"M1527.7,-88.95C1527.87,-80.72 1528.06,-71.85 1528.24,-63.48\"/>\n",
       "<polygon fill=\"black\" stroke=\"black\" points=\"1531.74,-63.31 1528.46,-53.24 1524.74,-63.16 1531.74,-63.31\"/>\n",
       "</g>\n",
       "<!-- 35 -->\n",
       "<g id=\"node36\" class=\"node\">\n",
       "<title>35</title>\n",
       "<polygon fill=\"#e58139\" stroke=\"black\" points=\"1685,-53 1593,-53 1593,0 1685,0 1685,-53\"/>\n",
       "<text text-anchor=\"middle\" x=\"1639\" y=\"-37.8\" font-family=\"Times,serif\" font-size=\"14.00\">gini = 0.0</text>\n",
       "<text text-anchor=\"middle\" x=\"1639\" y=\"-22.8\" font-family=\"Times,serif\" font-size=\"14.00\">samples = 5</text>\n",
       "<text text-anchor=\"middle\" x=\"1639\" y=\"-7.8\" font-family=\"Times,serif\" font-size=\"14.00\">value = [5, 0]</text>\n",
       "</g>\n",
       "<!-- 34&#45;&gt;35 -->\n",
       "<g id=\"edge35\" class=\"edge\">\n",
       "<title>34&#45;&gt;35</title>\n",
       "<path fill=\"none\" stroke=\"black\" d=\"M1639.65,-88.95C1639.56,-80.72 1639.47,-71.85 1639.38,-63.48\"/>\n",
       "<polygon fill=\"black\" stroke=\"black\" points=\"1642.88,-63.2 1639.27,-53.24 1635.88,-63.27 1642.88,-63.2\"/>\n",
       "</g>\n",
       "<!-- 36 -->\n",
       "<g id=\"node37\" class=\"node\">\n",
       "<title>36</title>\n",
       "<polygon fill=\"#7bbeee\" stroke=\"black\" points=\"1795,-53 1703,-53 1703,0 1795,0 1795,-53\"/>\n",
       "<text text-anchor=\"middle\" x=\"1749\" y=\"-37.8\" font-family=\"Times,serif\" font-size=\"14.00\">gini = 0.375</text>\n",
       "<text text-anchor=\"middle\" x=\"1749\" y=\"-22.8\" font-family=\"Times,serif\" font-size=\"14.00\">samples = 4</text>\n",
       "<text text-anchor=\"middle\" x=\"1749\" y=\"-7.8\" font-family=\"Times,serif\" font-size=\"14.00\">value = [1, 3]</text>\n",
       "</g>\n",
       "<!-- 34&#45;&gt;36 -->\n",
       "<g id=\"edge36\" class=\"edge\">\n",
       "<title>34&#45;&gt;36</title>\n",
       "<path fill=\"none\" stroke=\"black\" d=\"M1678.12,-88.95C1688.99,-79.53 1700.82,-69.27 1711.64,-59.89\"/>\n",
       "<polygon fill=\"black\" stroke=\"black\" points=\"1714.05,-62.43 1719.31,-53.24 1709.47,-57.14 1714.05,-62.43\"/>\n",
       "</g>\n",
       "<!-- 39 -->\n",
       "<g id=\"node40\" class=\"node\">\n",
       "<title>39</title>\n",
       "<polygon fill=\"#a6d3f3\" stroke=\"black\" points=\"1967.5,-261 1862.5,-261 1862.5,-193 1967.5,-193 1967.5,-261\"/>\n",
       "<text text-anchor=\"middle\" x=\"1915\" y=\"-245.8\" font-family=\"Times,serif\" font-size=\"14.00\">X[2] &lt;= 85.0</text>\n",
       "<text text-anchor=\"middle\" x=\"1915\" y=\"-230.8\" font-family=\"Times,serif\" font-size=\"14.00\">gini = 0.458</text>\n",
       "<text text-anchor=\"middle\" x=\"1915\" y=\"-215.8\" font-family=\"Times,serif\" font-size=\"14.00\">samples = 31</text>\n",
       "<text text-anchor=\"middle\" x=\"1915\" y=\"-200.8\" font-family=\"Times,serif\" font-size=\"14.00\">value = [11, 20]</text>\n",
       "</g>\n",
       "<!-- 38&#45;&gt;39 -->\n",
       "<g id=\"edge39\" class=\"edge\">\n",
       "<title>38&#45;&gt;39</title>\n",
       "<path fill=\"none\" stroke=\"black\" d=\"M1915,-296.88C1915,-288.78 1915,-279.98 1915,-271.47\"/>\n",
       "<polygon fill=\"black\" stroke=\"black\" points=\"1918.5,-271.3 1915,-261.3 1911.5,-271.3 1918.5,-271.3\"/>\n",
       "</g>\n",
       "<!-- 44 -->\n",
       "<g id=\"node45\" class=\"node\">\n",
       "<title>44</title>\n",
       "<polygon fill=\"#4fa8e8\" stroke=\"black\" points=\"2138,-261 2040,-261 2040,-193 2138,-193 2138,-261\"/>\n",
       "<text text-anchor=\"middle\" x=\"2089\" y=\"-245.8\" font-family=\"Times,serif\" font-size=\"14.00\">X[3] &lt;= 13.5</text>\n",
       "<text text-anchor=\"middle\" x=\"2089\" y=\"-230.8\" font-family=\"Times,serif\" font-size=\"14.00\">gini = 0.182</text>\n",
       "<text text-anchor=\"middle\" x=\"2089\" y=\"-215.8\" font-family=\"Times,serif\" font-size=\"14.00\">samples = 69</text>\n",
       "<text text-anchor=\"middle\" x=\"2089\" y=\"-200.8\" font-family=\"Times,serif\" font-size=\"14.00\">value = [7, 62]</text>\n",
       "</g>\n",
       "<!-- 38&#45;&gt;44 -->\n",
       "<g id=\"edge44\" class=\"edge\">\n",
       "<title>38&#45;&gt;44</title>\n",
       "<path fill=\"none\" stroke=\"black\" d=\"M1967.68,-299.12C1987.63,-287.42 2010.45,-274.05 2030.88,-262.07\"/>\n",
       "<polygon fill=\"black\" stroke=\"black\" points=\"2032.91,-264.93 2039.77,-256.86 2029.37,-258.9 2032.91,-264.93\"/>\n",
       "</g>\n",
       "<!-- 40 -->\n",
       "<g id=\"node41\" class=\"node\">\n",
       "<title>40</title>\n",
       "<polygon fill=\"#d5eaf9\" stroke=\"black\" points=\"1914.5,-157 1809.5,-157 1809.5,-89 1914.5,-89 1914.5,-157\"/>\n",
       "<text text-anchor=\"middle\" x=\"1862\" y=\"-141.8\" font-family=\"Times,serif\" font-size=\"14.00\">X[3] &lt;= 29.0</text>\n",
       "<text text-anchor=\"middle\" x=\"1862\" y=\"-126.8\" font-family=\"Times,serif\" font-size=\"14.00\">gini = 0.493</text>\n",
       "<text text-anchor=\"middle\" x=\"1862\" y=\"-111.8\" font-family=\"Times,serif\" font-size=\"14.00\">samples = 25</text>\n",
       "<text text-anchor=\"middle\" x=\"1862\" y=\"-96.8\" font-family=\"Times,serif\" font-size=\"14.00\">value = [11, 14]</text>\n",
       "</g>\n",
       "<!-- 39&#45;&gt;40 -->\n",
       "<g id=\"edge40\" class=\"edge\">\n",
       "<title>39&#45;&gt;40</title>\n",
       "<path fill=\"none\" stroke=\"black\" d=\"M1897.79,-192.88C1893.4,-184.42 1888.61,-175.21 1884.01,-166.35\"/>\n",
       "<polygon fill=\"black\" stroke=\"black\" points=\"1887.02,-164.56 1879.3,-157.3 1880.81,-167.79 1887.02,-164.56\"/>\n",
       "</g>\n",
       "<!-- 43 -->\n",
       "<g id=\"node44\" class=\"node\">\n",
       "<title>43</title>\n",
       "<polygon fill=\"#399de5\" stroke=\"black\" points=\"2025,-149.5 1933,-149.5 1933,-96.5 2025,-96.5 2025,-149.5\"/>\n",
       "<text text-anchor=\"middle\" x=\"1979\" y=\"-134.3\" font-family=\"Times,serif\" font-size=\"14.00\">gini = 0.0</text>\n",
       "<text text-anchor=\"middle\" x=\"1979\" y=\"-119.3\" font-family=\"Times,serif\" font-size=\"14.00\">samples = 6</text>\n",
       "<text text-anchor=\"middle\" x=\"1979\" y=\"-104.3\" font-family=\"Times,serif\" font-size=\"14.00\">value = [0, 6]</text>\n",
       "</g>\n",
       "<!-- 39&#45;&gt;43 -->\n",
       "<g id=\"edge43\" class=\"edge\">\n",
       "<title>39&#45;&gt;43</title>\n",
       "<path fill=\"none\" stroke=\"black\" d=\"M1935.78,-192.88C1942.75,-181.78 1950.53,-169.37 1957.55,-158.18\"/>\n",
       "<polygon fill=\"black\" stroke=\"black\" points=\"1960.64,-159.85 1962.99,-149.52 1954.71,-156.13 1960.64,-159.85\"/>\n",
       "</g>\n",
       "<!-- 41 -->\n",
       "<g id=\"node42\" class=\"node\">\n",
       "<title>41</title>\n",
       "<polygon fill=\"#74baed\" stroke=\"black\" points=\"1911,-53 1813,-53 1813,0 1911,0 1911,-53\"/>\n",
       "<text text-anchor=\"middle\" x=\"1862\" y=\"-37.8\" font-family=\"Times,serif\" font-size=\"14.00\">gini = 0.355</text>\n",
       "<text text-anchor=\"middle\" x=\"1862\" y=\"-22.8\" font-family=\"Times,serif\" font-size=\"14.00\">samples = 13</text>\n",
       "<text text-anchor=\"middle\" x=\"1862\" y=\"-7.8\" font-family=\"Times,serif\" font-size=\"14.00\">value = [3, 10]</text>\n",
       "</g>\n",
       "<!-- 40&#45;&gt;41 -->\n",
       "<g id=\"edge41\" class=\"edge\">\n",
       "<title>40&#45;&gt;41</title>\n",
       "<path fill=\"none\" stroke=\"black\" d=\"M1862,-88.95C1862,-80.72 1862,-71.85 1862,-63.48\"/>\n",
       "<polygon fill=\"black\" stroke=\"black\" points=\"1865.5,-63.24 1862,-53.24 1858.5,-63.24 1865.5,-63.24\"/>\n",
       "</g>\n",
       "<!-- 42 -->\n",
       "<g id=\"node43\" class=\"node\">\n",
       "<title>42</title>\n",
       "<polygon fill=\"#f2c09c\" stroke=\"black\" points=\"2021,-53 1929,-53 1929,0 2021,0 2021,-53\"/>\n",
       "<text text-anchor=\"middle\" x=\"1975\" y=\"-37.8\" font-family=\"Times,serif\" font-size=\"14.00\">gini = 0.444</text>\n",
       "<text text-anchor=\"middle\" x=\"1975\" y=\"-22.8\" font-family=\"Times,serif\" font-size=\"14.00\">samples = 12</text>\n",
       "<text text-anchor=\"middle\" x=\"1975\" y=\"-7.8\" font-family=\"Times,serif\" font-size=\"14.00\">value = [8, 4]</text>\n",
       "</g>\n",
       "<!-- 40&#45;&gt;42 -->\n",
       "<g id=\"edge42\" class=\"edge\">\n",
       "<title>40&#45;&gt;42</title>\n",
       "<path fill=\"none\" stroke=\"black\" d=\"M1901.52,-88.95C1912.79,-79.53 1925.05,-69.27 1936.27,-59.89\"/>\n",
       "<polygon fill=\"black\" stroke=\"black\" points=\"1938.8,-62.34 1944.22,-53.24 1934.31,-56.97 1938.8,-62.34\"/>\n",
       "</g>\n",
       "<!-- 45 -->\n",
       "<g id=\"node46\" class=\"node\">\n",
       "<title>45</title>\n",
       "<polygon fill=\"#e58139\" stroke=\"black\" points=\"2135,-149.5 2043,-149.5 2043,-96.5 2135,-96.5 2135,-149.5\"/>\n",
       "<text text-anchor=\"middle\" x=\"2089\" y=\"-134.3\" font-family=\"Times,serif\" font-size=\"14.00\">gini = 0.0</text>\n",
       "<text text-anchor=\"middle\" x=\"2089\" y=\"-119.3\" font-family=\"Times,serif\" font-size=\"14.00\">samples = 1</text>\n",
       "<text text-anchor=\"middle\" x=\"2089\" y=\"-104.3\" font-family=\"Times,serif\" font-size=\"14.00\">value = [1, 0]</text>\n",
       "</g>\n",
       "<!-- 44&#45;&gt;45 -->\n",
       "<g id=\"edge45\" class=\"edge\">\n",
       "<title>44&#45;&gt;45</title>\n",
       "<path fill=\"none\" stroke=\"black\" d=\"M2089,-192.88C2089,-182.33 2089,-170.6 2089,-159.85\"/>\n",
       "<polygon fill=\"black\" stroke=\"black\" points=\"2092.5,-159.52 2089,-149.52 2085.5,-159.52 2092.5,-159.52\"/>\n",
       "</g>\n",
       "<!-- 46 -->\n",
       "<g id=\"node47\" class=\"node\">\n",
       "<title>46</title>\n",
       "<polygon fill=\"#4ca6e8\" stroke=\"black\" points=\"2251,-157 2153,-157 2153,-89 2251,-89 2251,-157\"/>\n",
       "<text text-anchor=\"middle\" x=\"2202\" y=\"-141.8\" font-family=\"Times,serif\" font-size=\"14.00\">X[4] &lt;= 46.1</text>\n",
       "<text text-anchor=\"middle\" x=\"2202\" y=\"-126.8\" font-family=\"Times,serif\" font-size=\"14.00\">gini = 0.161</text>\n",
       "<text text-anchor=\"middle\" x=\"2202\" y=\"-111.8\" font-family=\"Times,serif\" font-size=\"14.00\">samples = 68</text>\n",
       "<text text-anchor=\"middle\" x=\"2202\" y=\"-96.8\" font-family=\"Times,serif\" font-size=\"14.00\">value = [6, 62]</text>\n",
       "</g>\n",
       "<!-- 44&#45;&gt;46 -->\n",
       "<g id=\"edge46\" class=\"edge\">\n",
       "<title>44&#45;&gt;46</title>\n",
       "<path fill=\"none\" stroke=\"black\" d=\"M2125.69,-192.88C2135.85,-183.71 2147,-173.65 2157.55,-164.12\"/>\n",
       "<polygon fill=\"black\" stroke=\"black\" points=\"2160.03,-166.6 2165.11,-157.3 2155.34,-161.4 2160.03,-166.6\"/>\n",
       "</g>\n",
       "<!-- 47 -->\n",
       "<g id=\"node48\" class=\"node\">\n",
       "<title>47</title>\n",
       "<polygon fill=\"#47a4e7\" stroke=\"black\" points=\"2195,-53 2097,-53 2097,0 2195,0 2195,-53\"/>\n",
       "<text text-anchor=\"middle\" x=\"2146\" y=\"-37.8\" font-family=\"Times,serif\" font-size=\"14.00\">gini = 0.121</text>\n",
       "<text text-anchor=\"middle\" x=\"2146\" y=\"-22.8\" font-family=\"Times,serif\" font-size=\"14.00\">samples = 62</text>\n",
       "<text text-anchor=\"middle\" x=\"2146\" y=\"-7.8\" font-family=\"Times,serif\" font-size=\"14.00\">value = [4, 58]</text>\n",
       "</g>\n",
       "<!-- 46&#45;&gt;47 -->\n",
       "<g id=\"edge47\" class=\"edge\">\n",
       "<title>46&#45;&gt;47</title>\n",
       "<path fill=\"none\" stroke=\"black\" d=\"M2182.41,-88.95C2177.26,-80.26 2171.7,-70.86 2166.5,-62.09\"/>\n",
       "<polygon fill=\"black\" stroke=\"black\" points=\"2169.36,-60.06 2161.25,-53.24 2163.34,-63.62 2169.36,-60.06\"/>\n",
       "</g>\n",
       "<!-- 48 -->\n",
       "<g id=\"node49\" class=\"node\">\n",
       "<title>48</title>\n",
       "<polygon fill=\"#9ccef2\" stroke=\"black\" points=\"2305,-53 2213,-53 2213,0 2305,0 2305,-53\"/>\n",
       "<text text-anchor=\"middle\" x=\"2259\" y=\"-37.8\" font-family=\"Times,serif\" font-size=\"14.00\">gini = 0.444</text>\n",
       "<text text-anchor=\"middle\" x=\"2259\" y=\"-22.8\" font-family=\"Times,serif\" font-size=\"14.00\">samples = 6</text>\n",
       "<text text-anchor=\"middle\" x=\"2259\" y=\"-7.8\" font-family=\"Times,serif\" font-size=\"14.00\">value = [2, 4]</text>\n",
       "</g>\n",
       "<!-- 46&#45;&gt;48 -->\n",
       "<g id=\"edge48\" class=\"edge\">\n",
       "<title>46&#45;&gt;48</title>\n",
       "<path fill=\"none\" stroke=\"black\" d=\"M2221.94,-88.95C2227.23,-80.17 2232.97,-70.66 2238.3,-61.82\"/>\n",
       "<polygon fill=\"black\" stroke=\"black\" points=\"2241.31,-63.61 2243.48,-53.24 2235.31,-59.99 2241.31,-63.61\"/>\n",
       "</g>\n",
       "</g>\n",
       "</svg>\n"
      ],
      "text/plain": [
       "<graphviz.files.Source at 0x7ff8cfb33d50>"
      ]
     },
     "execution_count": 43,
     "metadata": {},
     "output_type": "execute_result"
    }
   ],
   "source": [
    "import graphviz\n",
    "resultat_visuel = tree.export_graphviz(clf, out_file=None,filled=True)\n",
    "graph = graphviz.Source(resultat_visuel)\n",
    "graph"
   ]
  },
  {
   "cell_type": "markdown",
   "metadata": {
    "papermill": {
     "duration": 0.083126,
     "end_time": "2021-09-30T11:15:43.837138",
     "exception": false,
     "start_time": "2021-09-30T11:15:43.754012",
     "status": "completed"
    },
    "tags": []
   },
   "source": [
    "# **Classification with KNN**"
   ]
  },
  {
   "cell_type": "code",
   "execution_count": 44,
   "metadata": {
    "execution": {
     "iopub.execute_input": "2021-09-30T11:15:44.019072Z",
     "iopub.status.busy": "2021-09-30T11:15:44.015540Z",
     "iopub.status.idle": "2021-09-30T11:15:44.024396Z",
     "shell.execute_reply": "2021-09-30T11:15:44.023517Z",
     "shell.execute_reply.started": "2021-09-30T11:14:03.266872Z"
    },
    "papermill": {
     "duration": 0.101995,
     "end_time": "2021-09-30T11:15:44.024558",
     "exception": false,
     "start_time": "2021-09-30T11:15:43.922563",
     "status": "completed"
    },
    "tags": []
   },
   "outputs": [
    {
     "data": {
      "text/plain": [
       "KNeighborsClassifier(n_neighbors=10)"
      ]
     },
     "execution_count": 44,
     "metadata": {},
     "output_type": "execute_result"
    }
   ],
   "source": [
    "from sklearn.neighbors import KNeighborsClassifier\n",
    "knn = KNeighborsClassifier(n_neighbors=10)\n",
    "knn.fit(X_train, Y_train)"
   ]
  },
  {
   "cell_type": "code",
   "execution_count": 45,
   "metadata": {
    "execution": {
     "iopub.execute_input": "2021-09-30T11:15:44.216568Z",
     "iopub.status.busy": "2021-09-30T11:15:44.215846Z",
     "iopub.status.idle": "2021-09-30T11:15:44.231556Z",
     "shell.execute_reply": "2021-09-30T11:15:44.232111Z",
     "shell.execute_reply.started": "2021-09-30T11:14:03.284437Z"
    },
    "papermill": {
     "duration": 0.116599,
     "end_time": "2021-09-30T11:15:44.232290",
     "exception": false,
     "start_time": "2021-09-30T11:15:44.115691",
     "status": "completed"
    },
    "tags": []
   },
   "outputs": [
    {
     "name": "stdout",
     "output_type": "stream",
     "text": [
      "0.7532467532467533\n"
     ]
    }
   ],
   "source": [
    "knn_pred = knn.predict(X_test)\n",
    "print(accuracy_score(Y_test, knn_pred))"
   ]
  },
  {
   "cell_type": "markdown",
   "metadata": {
    "papermill": {
     "duration": 0.089127,
     "end_time": "2021-09-30T11:15:44.410751",
     "exception": false,
     "start_time": "2021-09-30T11:15:44.321624",
     "status": "completed"
    },
    "tags": []
   },
   "source": [
    "**Amelioration hyperparametre**"
   ]
  },
  {
   "cell_type": "code",
   "execution_count": 46,
   "metadata": {
    "execution": {
     "iopub.execute_input": "2021-09-30T11:15:44.596636Z",
     "iopub.status.busy": "2021-09-30T11:15:44.595934Z",
     "iopub.status.idle": "2021-09-30T11:15:48.498333Z",
     "shell.execute_reply": "2021-09-30T11:15:48.498872Z",
     "shell.execute_reply.started": "2021-09-30T11:14:03.313620Z"
    },
    "papermill": {
     "duration": 3.999511,
     "end_time": "2021-09-30T11:15:48.499041",
     "exception": false,
     "start_time": "2021-09-30T11:15:44.499530",
     "status": "completed"
    },
    "tags": []
   },
   "outputs": [
    {
     "name": "stdout",
     "output_type": "stream",
     "text": [
      "Fitting 5 folds for each of 150 candidates, totalling 750 fits\n"
     ]
    },
    {
     "name": "stderr",
     "output_type": "stream",
     "text": [
      "[Parallel(n_jobs=-1)]: Using backend LokyBackend with 4 concurrent workers.\n",
      "[Parallel(n_jobs=-1)]: Done  68 tasks      | elapsed:    2.4s\n",
      "[Parallel(n_jobs=-1)]: Done 750 out of 750 | elapsed:    3.9s finished\n"
     ]
    },
    {
     "data": {
      "text/plain": [
       "GridSearchCV(cv=5,\n",
       "             estimator=DecisionTreeClassifier(max_depth=5, random_state=17),\n",
       "             n_jobs=-1,\n",
       "             param_grid={'max_depth': range(1, 11),\n",
       "                         'max_features': range(4, 19)},\n",
       "             verbose=True)"
      ]
     },
     "execution_count": 46,
     "metadata": {},
     "output_type": "execute_result"
    }
   ],
   "source": [
    "from sklearn.model_selection import GridSearchCV, cross_val_score\n",
    "\n",
    "tree_params = {'max_depth': range(1,11),\n",
    "               'max_features': range(4,19)}\n",
    "\n",
    "tree_grid = GridSearchCV(clf, tree_params,\n",
    "cv=5, n_jobs=-1,\n",
    "verbose=True)\n",
    "\n",
    "tree_grid.fit(X_train, Y_train)"
   ]
  },
  {
   "cell_type": "code",
   "execution_count": 47,
   "metadata": {
    "execution": {
     "iopub.execute_input": "2021-09-30T11:15:48.688209Z",
     "iopub.status.busy": "2021-09-30T11:15:48.687487Z",
     "iopub.status.idle": "2021-09-30T11:15:48.701928Z",
     "shell.execute_reply": "2021-09-30T11:15:48.700865Z",
     "shell.execute_reply.started": "2021-09-30T11:14:07.490262Z"
    },
    "papermill": {
     "duration": 0.112764,
     "end_time": "2021-09-30T11:15:48.702171",
     "exception": false,
     "start_time": "2021-09-30T11:15:48.589407",
     "status": "completed"
    },
    "tags": []
   },
   "outputs": [
    {
     "name": "stdout",
     "output_type": "stream",
     "text": [
      "{'max_depth': 5, 'max_features': 7}\n",
      "0.7299238490827276\n",
      "0.7835497835497836\n"
     ]
    }
   ],
   "source": [
    "print(tree_grid.best_params_) \n",
    "print(tree_grid.best_score_) \n",
    "print(accuracy_score(Y_test, tree_grid.predict(X_test)))"
   ]
  },
  {
   "cell_type": "code",
   "execution_count": 48,
   "metadata": {
    "execution": {
     "iopub.execute_input": "2021-09-30T11:15:48.886271Z",
     "iopub.status.busy": "2021-09-30T11:15:48.885555Z",
     "iopub.status.idle": "2021-09-30T11:15:50.397411Z",
     "shell.execute_reply": "2021-09-30T11:15:50.396794Z",
     "shell.execute_reply.started": "2021-09-30T11:14:07.501427Z"
    },
    "papermill": {
     "duration": 1.606418,
     "end_time": "2021-09-30T11:15:50.397530",
     "exception": false,
     "start_time": "2021-09-30T11:15:48.791112",
     "status": "completed"
    },
    "tags": []
   },
   "outputs": [
    {
     "name": "stdout",
     "output_type": "stream",
     "text": [
      "Fitting 5 folds for each of 9 candidates, totalling 45 fits\n"
     ]
    },
    {
     "name": "stderr",
     "output_type": "stream",
     "text": [
      "[Parallel(n_jobs=-1)]: Using backend LokyBackend with 4 concurrent workers.\n",
      "[Parallel(n_jobs=-1)]: Done  38 out of  45 | elapsed:    1.3s remaining:    0.2s\n"
     ]
    },
    {
     "name": "stdout",
     "output_type": "stream",
     "text": [
      "{'knn__n_neighbors': 7} 0.7430425752855659\n"
     ]
    },
    {
     "name": "stderr",
     "output_type": "stream",
     "text": [
      "[Parallel(n_jobs=-1)]: Done  45 out of  45 | elapsed:    1.5s finished\n"
     ]
    }
   ],
   "source": [
    "from sklearn.pipeline import Pipeline\n",
    "from sklearn.preprocessing import StandardScaler\n",
    "knn_pipe = Pipeline([('scaler', StandardScaler()), \n",
    "                     ('knn', KNeighborsClassifier(n_jobs=-1))])\n",
    "knn_params = {'knn__n_neighbors': range(1, 10)}\n",
    "knn_grid = GridSearchCV(knn_pipe, knn_params,\n",
    "                        cv=5, n_jobs=-1, verbose=True)\n",
    "knn_grid.fit(X_train, Y_train)\n",
    "print(knn_grid.best_params_, knn_grid.best_score_)"
   ]
  },
  {
   "cell_type": "code",
   "execution_count": 49,
   "metadata": {
    "execution": {
     "iopub.execute_input": "2021-09-30T11:15:50.585737Z",
     "iopub.status.busy": "2021-09-30T11:15:50.584901Z",
     "iopub.status.idle": "2021-09-30T11:16:49.601464Z",
     "shell.execute_reply": "2021-09-30T11:16:49.599931Z",
     "shell.execute_reply.started": "2021-09-30T11:14:09.008697Z"
    },
    "papermill": {
     "duration": 59.115144,
     "end_time": "2021-09-30T11:16:49.601668",
     "exception": false,
     "start_time": "2021-09-30T11:15:50.486524",
     "status": "completed"
    },
    "tags": []
   },
   "outputs": [
    {
     "name": "stdout",
     "output_type": "stream",
     "text": [
      "0.7448598130841122\n",
      "Fitting 5 folds for each of 150 candidates, totalling 750 fits\n"
     ]
    },
    {
     "name": "stderr",
     "output_type": "stream",
     "text": [
      "[Parallel(n_jobs=-1)]: Using backend LokyBackend with 4 concurrent workers.\n",
      "[Parallel(n_jobs=-1)]: Done  42 tasks      | elapsed:    3.8s\n",
      "[Parallel(n_jobs=-1)]: Done 192 tasks      | elapsed:   14.8s\n",
      "[Parallel(n_jobs=-1)]: Done 442 tasks      | elapsed:   33.1s\n",
      "[Parallel(n_jobs=-1)]: Done 750 out of 750 | elapsed:   56.9s finished\n"
     ]
    },
    {
     "name": "stdout",
     "output_type": "stream",
     "text": [
      "{'max_depth': 3, 'max_features': 4} 0.7652994115610938\n"
     ]
    }
   ],
   "source": [
    "from sklearn.ensemble import RandomForestClassifier\n",
    "\n",
    "forest = RandomForestClassifier(n_estimators=100, n_jobs=-1, \n",
    "                                random_state=17)\n",
    "print(np.mean(cross_val_score(forest, X_train, Y_train, cv=5)))\n",
    "\n",
    "forest_params = {'max_depth': range(1, 11), 'max_features': range(4, 19)}\n",
    "\n",
    "forest_grid = GridSearchCV(forest, forest_params,\n",
    "                           cv=5, n_jobs=-1, verbose=True)\n",
    "\n",
    "forest_grid.fit(X_train, Y_train)\n",
    "\n",
    "print(forest_grid.best_params_, forest_grid.best_score_) "
   ]
  },
  {
   "cell_type": "code",
   "execution_count": 50,
   "metadata": {
    "execution": {
     "iopub.execute_input": "2021-09-30T11:16:49.796669Z",
     "iopub.status.busy": "2021-09-30T11:16:49.793183Z",
     "iopub.status.idle": "2021-09-30T11:16:49.801176Z",
     "shell.execute_reply": "2021-09-30T11:16:49.801681Z",
     "shell.execute_reply.started": "2021-09-30T11:15:05.682114Z"
    },
    "papermill": {
     "duration": 0.108302,
     "end_time": "2021-09-30T11:16:49.801877",
     "exception": false,
     "start_time": "2021-09-30T11:16:49.693575",
     "status": "completed"
    },
    "tags": []
   },
   "outputs": [
    {
     "name": "stdout",
     "output_type": "stream",
     "text": [
      "random forest score : 0.7652994115610938\n",
      "KNN score : 0.7430425752855659\n",
      "arbre des decisions score: 0.7835497835497836\n"
     ]
    }
   ],
   "source": [
    "print('random forest score :', forest_grid.best_score_) \n",
    "print ('KNN score :', knn_grid.best_score_)\n",
    "print('arbre des decisions score:', accuracy_score(Y_test, tree_grid.predict(X_test)))\n"
   ]
  }
 ],
 "metadata": {
  "kernelspec": {
   "display_name": "Python 3",
   "language": "python",
   "name": "python3"
  },
  "language_info": {
   "codemirror_mode": {
    "name": "ipython",
    "version": 3
   },
   "file_extension": ".py",
   "mimetype": "text/x-python",
   "name": "python",
   "nbconvert_exporter": "python",
   "pygments_lexer": "ipython3",
   "version": "3.7.6"
  },
  "papermill": {
   "duration": 87.832979,
   "end_time": "2021-09-30T11:16:50.019453",
   "environment_variables": {},
   "exception": null,
   "input_path": "__notebook__.ipynb",
   "output_path": "__notebook__.ipynb",
   "parameters": {},
   "start_time": "2021-09-30T11:15:22.186474",
   "version": "2.1.0"
  }
 },
 "nbformat": 4,
 "nbformat_minor": 4
}
